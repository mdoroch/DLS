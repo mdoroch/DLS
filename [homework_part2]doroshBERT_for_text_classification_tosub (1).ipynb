{
  "nbformat": 4,
  "nbformat_minor": 0,
  "metadata": {
    "colab": {
      "name": "[homework_part2]doroshBERT_for_text_classification_tosub.ipynb",
      "provenance": [],
      "collapsed_sections": [],
      "machine_shape": "hm"
    },
    "kernelspec": {
      "name": "python3",
      "display_name": "Python 3"
    },
    "accelerator": "GPU",
    "widgets": {
      "application/vnd.jupyter.widget-state+json": {
        "463a291d1e8546aca8698bdb21f43cc6": {
          "model_module": "@jupyter-widgets/controls",
          "model_name": "HBoxModel",
          "model_module_version": "1.5.0",
          "state": {
            "_view_name": "HBoxView",
            "_dom_classes": [],
            "_model_name": "HBoxModel",
            "_view_module": "@jupyter-widgets/controls",
            "_model_module_version": "1.5.0",
            "_view_count": null,
            "_view_module_version": "1.5.0",
            "box_style": "",
            "layout": "IPY_MODEL_4fd1781c7a0c4414a8e1c25528ae8293",
            "_model_module": "@jupyter-widgets/controls",
            "children": [
              "IPY_MODEL_d56e3fcc4e1f4cc8966d09042c225bbe",
              "IPY_MODEL_b0751ebe64cc42cba78e60fd7f49ad03",
              "IPY_MODEL_4af570b034314e7caf52fa45f69efb0e"
            ]
          }
        },
        "4fd1781c7a0c4414a8e1c25528ae8293": {
          "model_module": "@jupyter-widgets/base",
          "model_name": "LayoutModel",
          "model_module_version": "1.2.0",
          "state": {
            "_view_name": "LayoutView",
            "grid_template_rows": null,
            "right": null,
            "justify_content": null,
            "_view_module": "@jupyter-widgets/base",
            "overflow": null,
            "_model_module_version": "1.2.0",
            "_view_count": null,
            "flex_flow": null,
            "width": null,
            "min_width": null,
            "border": null,
            "align_items": null,
            "bottom": null,
            "_model_module": "@jupyter-widgets/base",
            "top": null,
            "grid_column": null,
            "overflow_y": null,
            "overflow_x": null,
            "grid_auto_flow": null,
            "grid_area": null,
            "grid_template_columns": null,
            "flex": null,
            "_model_name": "LayoutModel",
            "justify_items": null,
            "grid_row": null,
            "max_height": null,
            "align_content": null,
            "visibility": null,
            "align_self": null,
            "height": null,
            "min_height": null,
            "padding": null,
            "grid_auto_rows": null,
            "grid_gap": null,
            "max_width": null,
            "order": null,
            "_view_module_version": "1.2.0",
            "grid_template_areas": null,
            "object_position": null,
            "object_fit": null,
            "grid_auto_columns": null,
            "margin": null,
            "display": null,
            "left": null
          }
        },
        "d56e3fcc4e1f4cc8966d09042c225bbe": {
          "model_module": "@jupyter-widgets/controls",
          "model_name": "HTMLModel",
          "model_module_version": "1.5.0",
          "state": {
            "_view_name": "HTMLView",
            "style": "IPY_MODEL_0694e0bb845742758950d8d7c3010920",
            "_dom_classes": [],
            "description": "",
            "_model_name": "HTMLModel",
            "placeholder": "​",
            "_view_module": "@jupyter-widgets/controls",
            "_model_module_version": "1.5.0",
            "value": "",
            "_view_count": null,
            "_view_module_version": "1.5.0",
            "description_tooltip": null,
            "_model_module": "@jupyter-widgets/controls",
            "layout": "IPY_MODEL_36c5108f2fa945509a304809e63efe90"
          }
        },
        "b0751ebe64cc42cba78e60fd7f49ad03": {
          "model_module": "@jupyter-widgets/controls",
          "model_name": "FloatProgressModel",
          "model_module_version": "1.5.0",
          "state": {
            "_view_name": "ProgressView",
            "style": "IPY_MODEL_c5d00b71346849e4b7a1a2653a619282",
            "_dom_classes": [],
            "description": "",
            "_model_name": "FloatProgressModel",
            "bar_style": "success",
            "max": 1,
            "_view_module": "@jupyter-widgets/controls",
            "_model_module_version": "1.5.0",
            "value": 1,
            "_view_count": null,
            "_view_module_version": "1.5.0",
            "orientation": "horizontal",
            "min": 0,
            "description_tooltip": null,
            "_model_module": "@jupyter-widgets/controls",
            "layout": "IPY_MODEL_d35ddbeb34784da48b0e05670cc6f592"
          }
        },
        "4af570b034314e7caf52fa45f69efb0e": {
          "model_module": "@jupyter-widgets/controls",
          "model_name": "HTMLModel",
          "model_module_version": "1.5.0",
          "state": {
            "_view_name": "HTMLView",
            "style": "IPY_MODEL_df2ede5ef43d4609856755299022ab90",
            "_dom_classes": [],
            "description": "",
            "_model_name": "HTMLModel",
            "placeholder": "​",
            "_view_module": "@jupyter-widgets/controls",
            "_model_module_version": "1.5.0",
            "value": " 173/? [00:09&lt;00:00,  9.89it/s]",
            "_view_count": null,
            "_view_module_version": "1.5.0",
            "description_tooltip": null,
            "_model_module": "@jupyter-widgets/controls",
            "layout": "IPY_MODEL_2908a087e2f741429f3a7b43a0bb37cf"
          }
        },
        "0694e0bb845742758950d8d7c3010920": {
          "model_module": "@jupyter-widgets/controls",
          "model_name": "DescriptionStyleModel",
          "model_module_version": "1.5.0",
          "state": {
            "_view_name": "StyleView",
            "_model_name": "DescriptionStyleModel",
            "description_width": "",
            "_view_module": "@jupyter-widgets/base",
            "_model_module_version": "1.5.0",
            "_view_count": null,
            "_view_module_version": "1.2.0",
            "_model_module": "@jupyter-widgets/controls"
          }
        },
        "36c5108f2fa945509a304809e63efe90": {
          "model_module": "@jupyter-widgets/base",
          "model_name": "LayoutModel",
          "model_module_version": "1.2.0",
          "state": {
            "_view_name": "LayoutView",
            "grid_template_rows": null,
            "right": null,
            "justify_content": null,
            "_view_module": "@jupyter-widgets/base",
            "overflow": null,
            "_model_module_version": "1.2.0",
            "_view_count": null,
            "flex_flow": null,
            "width": null,
            "min_width": null,
            "border": null,
            "align_items": null,
            "bottom": null,
            "_model_module": "@jupyter-widgets/base",
            "top": null,
            "grid_column": null,
            "overflow_y": null,
            "overflow_x": null,
            "grid_auto_flow": null,
            "grid_area": null,
            "grid_template_columns": null,
            "flex": null,
            "_model_name": "LayoutModel",
            "justify_items": null,
            "grid_row": null,
            "max_height": null,
            "align_content": null,
            "visibility": null,
            "align_self": null,
            "height": null,
            "min_height": null,
            "padding": null,
            "grid_auto_rows": null,
            "grid_gap": null,
            "max_width": null,
            "order": null,
            "_view_module_version": "1.2.0",
            "grid_template_areas": null,
            "object_position": null,
            "object_fit": null,
            "grid_auto_columns": null,
            "margin": null,
            "display": null,
            "left": null
          }
        },
        "c5d00b71346849e4b7a1a2653a619282": {
          "model_module": "@jupyter-widgets/controls",
          "model_name": "ProgressStyleModel",
          "model_module_version": "1.5.0",
          "state": {
            "_view_name": "StyleView",
            "_model_name": "ProgressStyleModel",
            "description_width": "",
            "_view_module": "@jupyter-widgets/base",
            "_model_module_version": "1.5.0",
            "_view_count": null,
            "_view_module_version": "1.2.0",
            "bar_color": null,
            "_model_module": "@jupyter-widgets/controls"
          }
        },
        "d35ddbeb34784da48b0e05670cc6f592": {
          "model_module": "@jupyter-widgets/base",
          "model_name": "LayoutModel",
          "model_module_version": "1.2.0",
          "state": {
            "_view_name": "LayoutView",
            "grid_template_rows": null,
            "right": null,
            "justify_content": null,
            "_view_module": "@jupyter-widgets/base",
            "overflow": null,
            "_model_module_version": "1.2.0",
            "_view_count": null,
            "flex_flow": null,
            "width": "20px",
            "min_width": null,
            "border": null,
            "align_items": null,
            "bottom": null,
            "_model_module": "@jupyter-widgets/base",
            "top": null,
            "grid_column": null,
            "overflow_y": null,
            "overflow_x": null,
            "grid_auto_flow": null,
            "grid_area": null,
            "grid_template_columns": null,
            "flex": null,
            "_model_name": "LayoutModel",
            "justify_items": null,
            "grid_row": null,
            "max_height": null,
            "align_content": null,
            "visibility": null,
            "align_self": null,
            "height": null,
            "min_height": null,
            "padding": null,
            "grid_auto_rows": null,
            "grid_gap": null,
            "max_width": null,
            "order": null,
            "_view_module_version": "1.2.0",
            "grid_template_areas": null,
            "object_position": null,
            "object_fit": null,
            "grid_auto_columns": null,
            "margin": null,
            "display": null,
            "left": null
          }
        },
        "df2ede5ef43d4609856755299022ab90": {
          "model_module": "@jupyter-widgets/controls",
          "model_name": "DescriptionStyleModel",
          "model_module_version": "1.5.0",
          "state": {
            "_view_name": "StyleView",
            "_model_name": "DescriptionStyleModel",
            "description_width": "",
            "_view_module": "@jupyter-widgets/base",
            "_model_module_version": "1.5.0",
            "_view_count": null,
            "_view_module_version": "1.2.0",
            "_model_module": "@jupyter-widgets/controls"
          }
        },
        "2908a087e2f741429f3a7b43a0bb37cf": {
          "model_module": "@jupyter-widgets/base",
          "model_name": "LayoutModel",
          "model_module_version": "1.2.0",
          "state": {
            "_view_name": "LayoutView",
            "grid_template_rows": null,
            "right": null,
            "justify_content": null,
            "_view_module": "@jupyter-widgets/base",
            "overflow": null,
            "_model_module_version": "1.2.0",
            "_view_count": null,
            "flex_flow": null,
            "width": null,
            "min_width": null,
            "border": null,
            "align_items": null,
            "bottom": null,
            "_model_module": "@jupyter-widgets/base",
            "top": null,
            "grid_column": null,
            "overflow_y": null,
            "overflow_x": null,
            "grid_auto_flow": null,
            "grid_area": null,
            "grid_template_columns": null,
            "flex": null,
            "_model_name": "LayoutModel",
            "justify_items": null,
            "grid_row": null,
            "max_height": null,
            "align_content": null,
            "visibility": null,
            "align_self": null,
            "height": null,
            "min_height": null,
            "padding": null,
            "grid_auto_rows": null,
            "grid_gap": null,
            "max_width": null,
            "order": null,
            "_view_module_version": "1.2.0",
            "grid_template_areas": null,
            "object_position": null,
            "object_fit": null,
            "grid_auto_columns": null,
            "margin": null,
            "display": null,
            "left": null
          }
        },
        "9b12e25758e9415cb2bed868d90fd624": {
          "model_module": "@jupyter-widgets/controls",
          "model_name": "HBoxModel",
          "model_module_version": "1.5.0",
          "state": {
            "_view_name": "HBoxView",
            "_dom_classes": [],
            "_model_name": "HBoxModel",
            "_view_module": "@jupyter-widgets/controls",
            "_model_module_version": "1.5.0",
            "_view_count": null,
            "_view_module_version": "1.5.0",
            "box_style": "",
            "layout": "IPY_MODEL_1ae4f2d31a9a47898e90e6140f137e79",
            "_model_module": "@jupyter-widgets/controls",
            "children": [
              "IPY_MODEL_36475be86bdc4024aee965318f432cad",
              "IPY_MODEL_4148514c5d504257b04b848998a1f128",
              "IPY_MODEL_a795711bd2ed4fa9aa5b45a560455910"
            ]
          }
        },
        "1ae4f2d31a9a47898e90e6140f137e79": {
          "model_module": "@jupyter-widgets/base",
          "model_name": "LayoutModel",
          "model_module_version": "1.2.0",
          "state": {
            "_view_name": "LayoutView",
            "grid_template_rows": null,
            "right": null,
            "justify_content": null,
            "_view_module": "@jupyter-widgets/base",
            "overflow": null,
            "_model_module_version": "1.2.0",
            "_view_count": null,
            "flex_flow": null,
            "width": null,
            "min_width": null,
            "border": null,
            "align_items": null,
            "bottom": null,
            "_model_module": "@jupyter-widgets/base",
            "top": null,
            "grid_column": null,
            "overflow_y": null,
            "overflow_x": null,
            "grid_auto_flow": null,
            "grid_area": null,
            "grid_template_columns": null,
            "flex": null,
            "_model_name": "LayoutModel",
            "justify_items": null,
            "grid_row": null,
            "max_height": null,
            "align_content": null,
            "visibility": null,
            "align_self": null,
            "height": null,
            "min_height": null,
            "padding": null,
            "grid_auto_rows": null,
            "grid_gap": null,
            "max_width": null,
            "order": null,
            "_view_module_version": "1.2.0",
            "grid_template_areas": null,
            "object_position": null,
            "object_fit": null,
            "grid_auto_columns": null,
            "margin": null,
            "display": null,
            "left": null
          }
        },
        "36475be86bdc4024aee965318f432cad": {
          "model_module": "@jupyter-widgets/controls",
          "model_name": "HTMLModel",
          "model_module_version": "1.5.0",
          "state": {
            "_view_name": "HTMLView",
            "style": "IPY_MODEL_4b47e3abab3747f9828ab18b4b4f03ad",
            "_dom_classes": [],
            "description": "",
            "_model_name": "HTMLModel",
            "placeholder": "​",
            "_view_module": "@jupyter-widgets/controls",
            "_model_module_version": "1.5.0",
            "value": "",
            "_view_count": null,
            "_view_module_version": "1.5.0",
            "description_tooltip": null,
            "_model_module": "@jupyter-widgets/controls",
            "layout": "IPY_MODEL_90a9554b3c614d5384f3cee8cdebaf67"
          }
        },
        "4148514c5d504257b04b848998a1f128": {
          "model_module": "@jupyter-widgets/controls",
          "model_name": "FloatProgressModel",
          "model_module_version": "1.5.0",
          "state": {
            "_view_name": "ProgressView",
            "style": "IPY_MODEL_7482791349ca4c9ab91b6cd319739c87",
            "_dom_classes": [],
            "description": "",
            "_model_name": "FloatProgressModel",
            "bar_style": "success",
            "max": 1,
            "_view_module": "@jupyter-widgets/controls",
            "_model_module_version": "1.5.0",
            "value": 1,
            "_view_count": null,
            "_view_module_version": "1.5.0",
            "orientation": "horizontal",
            "min": 0,
            "description_tooltip": null,
            "_model_module": "@jupyter-widgets/controls",
            "layout": "IPY_MODEL_64450857ba504a4ab51327dcfbfdfa63"
          }
        },
        "a795711bd2ed4fa9aa5b45a560455910": {
          "model_module": "@jupyter-widgets/controls",
          "model_name": "HTMLModel",
          "model_module_version": "1.5.0",
          "state": {
            "_view_name": "HTMLView",
            "style": "IPY_MODEL_0bca983e2b344a8ca03ca9441ecf76d6",
            "_dom_classes": [],
            "description": "",
            "_model_name": "HTMLModel",
            "placeholder": "​",
            "_view_module": "@jupyter-widgets/controls",
            "_model_module_version": "1.5.0",
            "value": " 22/? [00:01&lt;00:00, 14.78it/s]",
            "_view_count": null,
            "_view_module_version": "1.5.0",
            "description_tooltip": null,
            "_model_module": "@jupyter-widgets/controls",
            "layout": "IPY_MODEL_54719f10c201457f81d977a59b347a7c"
          }
        },
        "4b47e3abab3747f9828ab18b4b4f03ad": {
          "model_module": "@jupyter-widgets/controls",
          "model_name": "DescriptionStyleModel",
          "model_module_version": "1.5.0",
          "state": {
            "_view_name": "StyleView",
            "_model_name": "DescriptionStyleModel",
            "description_width": "",
            "_view_module": "@jupyter-widgets/base",
            "_model_module_version": "1.5.0",
            "_view_count": null,
            "_view_module_version": "1.2.0",
            "_model_module": "@jupyter-widgets/controls"
          }
        },
        "90a9554b3c614d5384f3cee8cdebaf67": {
          "model_module": "@jupyter-widgets/base",
          "model_name": "LayoutModel",
          "model_module_version": "1.2.0",
          "state": {
            "_view_name": "LayoutView",
            "grid_template_rows": null,
            "right": null,
            "justify_content": null,
            "_view_module": "@jupyter-widgets/base",
            "overflow": null,
            "_model_module_version": "1.2.0",
            "_view_count": null,
            "flex_flow": null,
            "width": null,
            "min_width": null,
            "border": null,
            "align_items": null,
            "bottom": null,
            "_model_module": "@jupyter-widgets/base",
            "top": null,
            "grid_column": null,
            "overflow_y": null,
            "overflow_x": null,
            "grid_auto_flow": null,
            "grid_area": null,
            "grid_template_columns": null,
            "flex": null,
            "_model_name": "LayoutModel",
            "justify_items": null,
            "grid_row": null,
            "max_height": null,
            "align_content": null,
            "visibility": null,
            "align_self": null,
            "height": null,
            "min_height": null,
            "padding": null,
            "grid_auto_rows": null,
            "grid_gap": null,
            "max_width": null,
            "order": null,
            "_view_module_version": "1.2.0",
            "grid_template_areas": null,
            "object_position": null,
            "object_fit": null,
            "grid_auto_columns": null,
            "margin": null,
            "display": null,
            "left": null
          }
        },
        "7482791349ca4c9ab91b6cd319739c87": {
          "model_module": "@jupyter-widgets/controls",
          "model_name": "ProgressStyleModel",
          "model_module_version": "1.5.0",
          "state": {
            "_view_name": "StyleView",
            "_model_name": "ProgressStyleModel",
            "description_width": "",
            "_view_module": "@jupyter-widgets/base",
            "_model_module_version": "1.5.0",
            "_view_count": null,
            "_view_module_version": "1.2.0",
            "bar_color": null,
            "_model_module": "@jupyter-widgets/controls"
          }
        },
        "64450857ba504a4ab51327dcfbfdfa63": {
          "model_module": "@jupyter-widgets/base",
          "model_name": "LayoutModel",
          "model_module_version": "1.2.0",
          "state": {
            "_view_name": "LayoutView",
            "grid_template_rows": null,
            "right": null,
            "justify_content": null,
            "_view_module": "@jupyter-widgets/base",
            "overflow": null,
            "_model_module_version": "1.2.0",
            "_view_count": null,
            "flex_flow": null,
            "width": "20px",
            "min_width": null,
            "border": null,
            "align_items": null,
            "bottom": null,
            "_model_module": "@jupyter-widgets/base",
            "top": null,
            "grid_column": null,
            "overflow_y": null,
            "overflow_x": null,
            "grid_auto_flow": null,
            "grid_area": null,
            "grid_template_columns": null,
            "flex": null,
            "_model_name": "LayoutModel",
            "justify_items": null,
            "grid_row": null,
            "max_height": null,
            "align_content": null,
            "visibility": null,
            "align_self": null,
            "height": null,
            "min_height": null,
            "padding": null,
            "grid_auto_rows": null,
            "grid_gap": null,
            "max_width": null,
            "order": null,
            "_view_module_version": "1.2.0",
            "grid_template_areas": null,
            "object_position": null,
            "object_fit": null,
            "grid_auto_columns": null,
            "margin": null,
            "display": null,
            "left": null
          }
        },
        "0bca983e2b344a8ca03ca9441ecf76d6": {
          "model_module": "@jupyter-widgets/controls",
          "model_name": "DescriptionStyleModel",
          "model_module_version": "1.5.0",
          "state": {
            "_view_name": "StyleView",
            "_model_name": "DescriptionStyleModel",
            "description_width": "",
            "_view_module": "@jupyter-widgets/base",
            "_model_module_version": "1.5.0",
            "_view_count": null,
            "_view_module_version": "1.2.0",
            "_model_module": "@jupyter-widgets/controls"
          }
        },
        "54719f10c201457f81d977a59b347a7c": {
          "model_module": "@jupyter-widgets/base",
          "model_name": "LayoutModel",
          "model_module_version": "1.2.0",
          "state": {
            "_view_name": "LayoutView",
            "grid_template_rows": null,
            "right": null,
            "justify_content": null,
            "_view_module": "@jupyter-widgets/base",
            "overflow": null,
            "_model_module_version": "1.2.0",
            "_view_count": null,
            "flex_flow": null,
            "width": null,
            "min_width": null,
            "border": null,
            "align_items": null,
            "bottom": null,
            "_model_module": "@jupyter-widgets/base",
            "top": null,
            "grid_column": null,
            "overflow_y": null,
            "overflow_x": null,
            "grid_auto_flow": null,
            "grid_area": null,
            "grid_template_columns": null,
            "flex": null,
            "_model_name": "LayoutModel",
            "justify_items": null,
            "grid_row": null,
            "max_height": null,
            "align_content": null,
            "visibility": null,
            "align_self": null,
            "height": null,
            "min_height": null,
            "padding": null,
            "grid_auto_rows": null,
            "grid_gap": null,
            "max_width": null,
            "order": null,
            "_view_module_version": "1.2.0",
            "grid_template_areas": null,
            "object_position": null,
            "object_fit": null,
            "grid_auto_columns": null,
            "margin": null,
            "display": null,
            "left": null
          }
        },
        "b3607c9e20a2418ba08534f5d6604fe7": {
          "model_module": "@jupyter-widgets/controls",
          "model_name": "HBoxModel",
          "model_module_version": "1.5.0",
          "state": {
            "_view_name": "HBoxView",
            "_dom_classes": [],
            "_model_name": "HBoxModel",
            "_view_module": "@jupyter-widgets/controls",
            "_model_module_version": "1.5.0",
            "_view_count": null,
            "_view_module_version": "1.5.0",
            "box_style": "",
            "layout": "IPY_MODEL_fea9059a220345e5a1998ed93215f2c4",
            "_model_module": "@jupyter-widgets/controls",
            "children": [
              "IPY_MODEL_6cedbf9aeaf847c0b2cad6327a76f59b",
              "IPY_MODEL_4cdb97dd7b9d44a5bcc9d0cdefe99b5f",
              "IPY_MODEL_6a1ea0bc7bbc4840ab7e42b26dd2390f"
            ]
          }
        },
        "fea9059a220345e5a1998ed93215f2c4": {
          "model_module": "@jupyter-widgets/base",
          "model_name": "LayoutModel",
          "model_module_version": "1.2.0",
          "state": {
            "_view_name": "LayoutView",
            "grid_template_rows": null,
            "right": null,
            "justify_content": null,
            "_view_module": "@jupyter-widgets/base",
            "overflow": null,
            "_model_module_version": "1.2.0",
            "_view_count": null,
            "flex_flow": null,
            "width": null,
            "min_width": null,
            "border": null,
            "align_items": null,
            "bottom": null,
            "_model_module": "@jupyter-widgets/base",
            "top": null,
            "grid_column": null,
            "overflow_y": null,
            "overflow_x": null,
            "grid_auto_flow": null,
            "grid_area": null,
            "grid_template_columns": null,
            "flex": null,
            "_model_name": "LayoutModel",
            "justify_items": null,
            "grid_row": null,
            "max_height": null,
            "align_content": null,
            "visibility": null,
            "align_self": null,
            "height": null,
            "min_height": null,
            "padding": null,
            "grid_auto_rows": null,
            "grid_gap": null,
            "max_width": null,
            "order": null,
            "_view_module_version": "1.2.0",
            "grid_template_areas": null,
            "object_position": null,
            "object_fit": null,
            "grid_auto_columns": null,
            "margin": null,
            "display": null,
            "left": null
          }
        },
        "6cedbf9aeaf847c0b2cad6327a76f59b": {
          "model_module": "@jupyter-widgets/controls",
          "model_name": "HTMLModel",
          "model_module_version": "1.5.0",
          "state": {
            "_view_name": "HTMLView",
            "style": "IPY_MODEL_8ee53e47b98d46d28f80a66ce35786c9",
            "_dom_classes": [],
            "description": "",
            "_model_name": "HTMLModel",
            "placeholder": "​",
            "_view_module": "@jupyter-widgets/controls",
            "_model_module_version": "1.5.0",
            "value": "",
            "_view_count": null,
            "_view_module_version": "1.5.0",
            "description_tooltip": null,
            "_model_module": "@jupyter-widgets/controls",
            "layout": "IPY_MODEL_2e4878f8adab4f89b88b29027f043820"
          }
        },
        "4cdb97dd7b9d44a5bcc9d0cdefe99b5f": {
          "model_module": "@jupyter-widgets/controls",
          "model_name": "FloatProgressModel",
          "model_module_version": "1.5.0",
          "state": {
            "_view_name": "ProgressView",
            "style": "IPY_MODEL_e86cbb5063274f55961ba60dbc62001c",
            "_dom_classes": [],
            "description": "",
            "_model_name": "FloatProgressModel",
            "bar_style": "success",
            "max": 1,
            "_view_module": "@jupyter-widgets/controls",
            "_model_module_version": "1.5.0",
            "value": 1,
            "_view_count": null,
            "_view_module_version": "1.5.0",
            "orientation": "horizontal",
            "min": 0,
            "description_tooltip": null,
            "_model_module": "@jupyter-widgets/controls",
            "layout": "IPY_MODEL_246a0301535747489011c5d75914f75c"
          }
        },
        "6a1ea0bc7bbc4840ab7e42b26dd2390f": {
          "model_module": "@jupyter-widgets/controls",
          "model_name": "HTMLModel",
          "model_module_version": "1.5.0",
          "state": {
            "_view_name": "HTMLView",
            "style": "IPY_MODEL_dc11042a56ae4f919e8435e687836935",
            "_dom_classes": [],
            "description": "",
            "_model_name": "HTMLModel",
            "placeholder": "​",
            "_view_module": "@jupyter-widgets/controls",
            "_model_module_version": "1.5.0",
            "value": " 22/? [00:01&lt;00:00, 14.20it/s]",
            "_view_count": null,
            "_view_module_version": "1.5.0",
            "description_tooltip": null,
            "_model_module": "@jupyter-widgets/controls",
            "layout": "IPY_MODEL_faa34b4e76a741a88d922185b63d3019"
          }
        },
        "8ee53e47b98d46d28f80a66ce35786c9": {
          "model_module": "@jupyter-widgets/controls",
          "model_name": "DescriptionStyleModel",
          "model_module_version": "1.5.0",
          "state": {
            "_view_name": "StyleView",
            "_model_name": "DescriptionStyleModel",
            "description_width": "",
            "_view_module": "@jupyter-widgets/base",
            "_model_module_version": "1.5.0",
            "_view_count": null,
            "_view_module_version": "1.2.0",
            "_model_module": "@jupyter-widgets/controls"
          }
        },
        "2e4878f8adab4f89b88b29027f043820": {
          "model_module": "@jupyter-widgets/base",
          "model_name": "LayoutModel",
          "model_module_version": "1.2.0",
          "state": {
            "_view_name": "LayoutView",
            "grid_template_rows": null,
            "right": null,
            "justify_content": null,
            "_view_module": "@jupyter-widgets/base",
            "overflow": null,
            "_model_module_version": "1.2.0",
            "_view_count": null,
            "flex_flow": null,
            "width": null,
            "min_width": null,
            "border": null,
            "align_items": null,
            "bottom": null,
            "_model_module": "@jupyter-widgets/base",
            "top": null,
            "grid_column": null,
            "overflow_y": null,
            "overflow_x": null,
            "grid_auto_flow": null,
            "grid_area": null,
            "grid_template_columns": null,
            "flex": null,
            "_model_name": "LayoutModel",
            "justify_items": null,
            "grid_row": null,
            "max_height": null,
            "align_content": null,
            "visibility": null,
            "align_self": null,
            "height": null,
            "min_height": null,
            "padding": null,
            "grid_auto_rows": null,
            "grid_gap": null,
            "max_width": null,
            "order": null,
            "_view_module_version": "1.2.0",
            "grid_template_areas": null,
            "object_position": null,
            "object_fit": null,
            "grid_auto_columns": null,
            "margin": null,
            "display": null,
            "left": null
          }
        },
        "e86cbb5063274f55961ba60dbc62001c": {
          "model_module": "@jupyter-widgets/controls",
          "model_name": "ProgressStyleModel",
          "model_module_version": "1.5.0",
          "state": {
            "_view_name": "StyleView",
            "_model_name": "ProgressStyleModel",
            "description_width": "",
            "_view_module": "@jupyter-widgets/base",
            "_model_module_version": "1.5.0",
            "_view_count": null,
            "_view_module_version": "1.2.0",
            "bar_color": null,
            "_model_module": "@jupyter-widgets/controls"
          }
        },
        "246a0301535747489011c5d75914f75c": {
          "model_module": "@jupyter-widgets/base",
          "model_name": "LayoutModel",
          "model_module_version": "1.2.0",
          "state": {
            "_view_name": "LayoutView",
            "grid_template_rows": null,
            "right": null,
            "justify_content": null,
            "_view_module": "@jupyter-widgets/base",
            "overflow": null,
            "_model_module_version": "1.2.0",
            "_view_count": null,
            "flex_flow": null,
            "width": "20px",
            "min_width": null,
            "border": null,
            "align_items": null,
            "bottom": null,
            "_model_module": "@jupyter-widgets/base",
            "top": null,
            "grid_column": null,
            "overflow_y": null,
            "overflow_x": null,
            "grid_auto_flow": null,
            "grid_area": null,
            "grid_template_columns": null,
            "flex": null,
            "_model_name": "LayoutModel",
            "justify_items": null,
            "grid_row": null,
            "max_height": null,
            "align_content": null,
            "visibility": null,
            "align_self": null,
            "height": null,
            "min_height": null,
            "padding": null,
            "grid_auto_rows": null,
            "grid_gap": null,
            "max_width": null,
            "order": null,
            "_view_module_version": "1.2.0",
            "grid_template_areas": null,
            "object_position": null,
            "object_fit": null,
            "grid_auto_columns": null,
            "margin": null,
            "display": null,
            "left": null
          }
        },
        "dc11042a56ae4f919e8435e687836935": {
          "model_module": "@jupyter-widgets/controls",
          "model_name": "DescriptionStyleModel",
          "model_module_version": "1.5.0",
          "state": {
            "_view_name": "StyleView",
            "_model_name": "DescriptionStyleModel",
            "description_width": "",
            "_view_module": "@jupyter-widgets/base",
            "_model_module_version": "1.5.0",
            "_view_count": null,
            "_view_module_version": "1.2.0",
            "_model_module": "@jupyter-widgets/controls"
          }
        },
        "faa34b4e76a741a88d922185b63d3019": {
          "model_module": "@jupyter-widgets/base",
          "model_name": "LayoutModel",
          "model_module_version": "1.2.0",
          "state": {
            "_view_name": "LayoutView",
            "grid_template_rows": null,
            "right": null,
            "justify_content": null,
            "_view_module": "@jupyter-widgets/base",
            "overflow": null,
            "_model_module_version": "1.2.0",
            "_view_count": null,
            "flex_flow": null,
            "width": null,
            "min_width": null,
            "border": null,
            "align_items": null,
            "bottom": null,
            "_model_module": "@jupyter-widgets/base",
            "top": null,
            "grid_column": null,
            "overflow_y": null,
            "overflow_x": null,
            "grid_auto_flow": null,
            "grid_area": null,
            "grid_template_columns": null,
            "flex": null,
            "_model_name": "LayoutModel",
            "justify_items": null,
            "grid_row": null,
            "max_height": null,
            "align_content": null,
            "visibility": null,
            "align_self": null,
            "height": null,
            "min_height": null,
            "padding": null,
            "grid_auto_rows": null,
            "grid_gap": null,
            "max_width": null,
            "order": null,
            "_view_module_version": "1.2.0",
            "grid_template_areas": null,
            "object_position": null,
            "object_fit": null,
            "grid_auto_columns": null,
            "margin": null,
            "display": null,
            "left": null
          }
        },
        "272377d76e1d474ab177c778e6a6d597": {
          "model_module": "@jupyter-widgets/controls",
          "model_name": "HBoxModel",
          "model_module_version": "1.5.0",
          "state": {
            "_view_name": "HBoxView",
            "_dom_classes": [],
            "_model_name": "HBoxModel",
            "_view_module": "@jupyter-widgets/controls",
            "_model_module_version": "1.5.0",
            "_view_count": null,
            "_view_module_version": "1.5.0",
            "box_style": "",
            "layout": "IPY_MODEL_a831e70bf1bc4d6c9a43a55c9ca1a057",
            "_model_module": "@jupyter-widgets/controls",
            "children": [
              "IPY_MODEL_a21efef03b1d462e94e100f123d38349",
              "IPY_MODEL_c20a421bf56345d3b2b4c5512c4f7ffc",
              "IPY_MODEL_f2eabbd3456a45828c98811910d4a2f0"
            ]
          }
        },
        "a831e70bf1bc4d6c9a43a55c9ca1a057": {
          "model_module": "@jupyter-widgets/base",
          "model_name": "LayoutModel",
          "model_module_version": "1.2.0",
          "state": {
            "_view_name": "LayoutView",
            "grid_template_rows": null,
            "right": null,
            "justify_content": null,
            "_view_module": "@jupyter-widgets/base",
            "overflow": null,
            "_model_module_version": "1.2.0",
            "_view_count": null,
            "flex_flow": null,
            "width": null,
            "min_width": null,
            "border": null,
            "align_items": null,
            "bottom": null,
            "_model_module": "@jupyter-widgets/base",
            "top": null,
            "grid_column": null,
            "overflow_y": null,
            "overflow_x": null,
            "grid_auto_flow": null,
            "grid_area": null,
            "grid_template_columns": null,
            "flex": null,
            "_model_name": "LayoutModel",
            "justify_items": null,
            "grid_row": null,
            "max_height": null,
            "align_content": null,
            "visibility": null,
            "align_self": null,
            "height": null,
            "min_height": null,
            "padding": null,
            "grid_auto_rows": null,
            "grid_gap": null,
            "max_width": null,
            "order": null,
            "_view_module_version": "1.2.0",
            "grid_template_areas": null,
            "object_position": null,
            "object_fit": null,
            "grid_auto_columns": null,
            "margin": null,
            "display": null,
            "left": null
          }
        },
        "a21efef03b1d462e94e100f123d38349": {
          "model_module": "@jupyter-widgets/controls",
          "model_name": "HTMLModel",
          "model_module_version": "1.5.0",
          "state": {
            "_view_name": "HTMLView",
            "style": "IPY_MODEL_7ddc8d22471f4b009960ed91786ccca6",
            "_dom_classes": [],
            "description": "",
            "_model_name": "HTMLModel",
            "placeholder": "​",
            "_view_module": "@jupyter-widgets/controls",
            "_model_module_version": "1.5.0",
            "value": "",
            "_view_count": null,
            "_view_module_version": "1.5.0",
            "description_tooltip": null,
            "_model_module": "@jupyter-widgets/controls",
            "layout": "IPY_MODEL_9fb93519b7874638822e613aab983fef"
          }
        },
        "c20a421bf56345d3b2b4c5512c4f7ffc": {
          "model_module": "@jupyter-widgets/controls",
          "model_name": "FloatProgressModel",
          "model_module_version": "1.5.0",
          "state": {
            "_view_name": "ProgressView",
            "style": "IPY_MODEL_b177c8d6e4e54357a0e0f75962fa3b8a",
            "_dom_classes": [],
            "description": "",
            "_model_name": "FloatProgressModel",
            "bar_style": "success",
            "max": 1,
            "_view_module": "@jupyter-widgets/controls",
            "_model_module_version": "1.5.0",
            "value": 1,
            "_view_count": null,
            "_view_module_version": "1.5.0",
            "orientation": "horizontal",
            "min": 0,
            "description_tooltip": null,
            "_model_module": "@jupyter-widgets/controls",
            "layout": "IPY_MODEL_5e45d1d9bee8443d8f55e857652fd824"
          }
        },
        "f2eabbd3456a45828c98811910d4a2f0": {
          "model_module": "@jupyter-widgets/controls",
          "model_name": "HTMLModel",
          "model_module_version": "1.5.0",
          "state": {
            "_view_name": "HTMLView",
            "style": "IPY_MODEL_0c9cd34990014a77bc4ff9ce100dbf72",
            "_dom_classes": [],
            "description": "",
            "_model_name": "HTMLModel",
            "placeholder": "​",
            "_view_module": "@jupyter-widgets/controls",
            "_model_module_version": "1.5.0",
            "value": " 22/? [00:01&lt;00:00, 14.27it/s]",
            "_view_count": null,
            "_view_module_version": "1.5.0",
            "description_tooltip": null,
            "_model_module": "@jupyter-widgets/controls",
            "layout": "IPY_MODEL_eebc2f46375a450495583a538badffc7"
          }
        },
        "7ddc8d22471f4b009960ed91786ccca6": {
          "model_module": "@jupyter-widgets/controls",
          "model_name": "DescriptionStyleModel",
          "model_module_version": "1.5.0",
          "state": {
            "_view_name": "StyleView",
            "_model_name": "DescriptionStyleModel",
            "description_width": "",
            "_view_module": "@jupyter-widgets/base",
            "_model_module_version": "1.5.0",
            "_view_count": null,
            "_view_module_version": "1.2.0",
            "_model_module": "@jupyter-widgets/controls"
          }
        },
        "9fb93519b7874638822e613aab983fef": {
          "model_module": "@jupyter-widgets/base",
          "model_name": "LayoutModel",
          "model_module_version": "1.2.0",
          "state": {
            "_view_name": "LayoutView",
            "grid_template_rows": null,
            "right": null,
            "justify_content": null,
            "_view_module": "@jupyter-widgets/base",
            "overflow": null,
            "_model_module_version": "1.2.0",
            "_view_count": null,
            "flex_flow": null,
            "width": null,
            "min_width": null,
            "border": null,
            "align_items": null,
            "bottom": null,
            "_model_module": "@jupyter-widgets/base",
            "top": null,
            "grid_column": null,
            "overflow_y": null,
            "overflow_x": null,
            "grid_auto_flow": null,
            "grid_area": null,
            "grid_template_columns": null,
            "flex": null,
            "_model_name": "LayoutModel",
            "justify_items": null,
            "grid_row": null,
            "max_height": null,
            "align_content": null,
            "visibility": null,
            "align_self": null,
            "height": null,
            "min_height": null,
            "padding": null,
            "grid_auto_rows": null,
            "grid_gap": null,
            "max_width": null,
            "order": null,
            "_view_module_version": "1.2.0",
            "grid_template_areas": null,
            "object_position": null,
            "object_fit": null,
            "grid_auto_columns": null,
            "margin": null,
            "display": null,
            "left": null
          }
        },
        "b177c8d6e4e54357a0e0f75962fa3b8a": {
          "model_module": "@jupyter-widgets/controls",
          "model_name": "ProgressStyleModel",
          "model_module_version": "1.5.0",
          "state": {
            "_view_name": "StyleView",
            "_model_name": "ProgressStyleModel",
            "description_width": "",
            "_view_module": "@jupyter-widgets/base",
            "_model_module_version": "1.5.0",
            "_view_count": null,
            "_view_module_version": "1.2.0",
            "bar_color": null,
            "_model_module": "@jupyter-widgets/controls"
          }
        },
        "5e45d1d9bee8443d8f55e857652fd824": {
          "model_module": "@jupyter-widgets/base",
          "model_name": "LayoutModel",
          "model_module_version": "1.2.0",
          "state": {
            "_view_name": "LayoutView",
            "grid_template_rows": null,
            "right": null,
            "justify_content": null,
            "_view_module": "@jupyter-widgets/base",
            "overflow": null,
            "_model_module_version": "1.2.0",
            "_view_count": null,
            "flex_flow": null,
            "width": "20px",
            "min_width": null,
            "border": null,
            "align_items": null,
            "bottom": null,
            "_model_module": "@jupyter-widgets/base",
            "top": null,
            "grid_column": null,
            "overflow_y": null,
            "overflow_x": null,
            "grid_auto_flow": null,
            "grid_area": null,
            "grid_template_columns": null,
            "flex": null,
            "_model_name": "LayoutModel",
            "justify_items": null,
            "grid_row": null,
            "max_height": null,
            "align_content": null,
            "visibility": null,
            "align_self": null,
            "height": null,
            "min_height": null,
            "padding": null,
            "grid_auto_rows": null,
            "grid_gap": null,
            "max_width": null,
            "order": null,
            "_view_module_version": "1.2.0",
            "grid_template_areas": null,
            "object_position": null,
            "object_fit": null,
            "grid_auto_columns": null,
            "margin": null,
            "display": null,
            "left": null
          }
        },
        "0c9cd34990014a77bc4ff9ce100dbf72": {
          "model_module": "@jupyter-widgets/controls",
          "model_name": "DescriptionStyleModel",
          "model_module_version": "1.5.0",
          "state": {
            "_view_name": "StyleView",
            "_model_name": "DescriptionStyleModel",
            "description_width": "",
            "_view_module": "@jupyter-widgets/base",
            "_model_module_version": "1.5.0",
            "_view_count": null,
            "_view_module_version": "1.2.0",
            "_model_module": "@jupyter-widgets/controls"
          }
        },
        "eebc2f46375a450495583a538badffc7": {
          "model_module": "@jupyter-widgets/base",
          "model_name": "LayoutModel",
          "model_module_version": "1.2.0",
          "state": {
            "_view_name": "LayoutView",
            "grid_template_rows": null,
            "right": null,
            "justify_content": null,
            "_view_module": "@jupyter-widgets/base",
            "overflow": null,
            "_model_module_version": "1.2.0",
            "_view_count": null,
            "flex_flow": null,
            "width": null,
            "min_width": null,
            "border": null,
            "align_items": null,
            "bottom": null,
            "_model_module": "@jupyter-widgets/base",
            "top": null,
            "grid_column": null,
            "overflow_y": null,
            "overflow_x": null,
            "grid_auto_flow": null,
            "grid_area": null,
            "grid_template_columns": null,
            "flex": null,
            "_model_name": "LayoutModel",
            "justify_items": null,
            "grid_row": null,
            "max_height": null,
            "align_content": null,
            "visibility": null,
            "align_self": null,
            "height": null,
            "min_height": null,
            "padding": null,
            "grid_auto_rows": null,
            "grid_gap": null,
            "max_width": null,
            "order": null,
            "_view_module_version": "1.2.0",
            "grid_template_areas": null,
            "object_position": null,
            "object_fit": null,
            "grid_auto_columns": null,
            "margin": null,
            "display": null,
            "left": null
          }
        },
        "3acd6dac00f74eeea362f93608fed784": {
          "model_module": "@jupyter-widgets/controls",
          "model_name": "HBoxModel",
          "model_module_version": "1.5.0",
          "state": {
            "_view_name": "HBoxView",
            "_dom_classes": [],
            "_model_name": "HBoxModel",
            "_view_module": "@jupyter-widgets/controls",
            "_model_module_version": "1.5.0",
            "_view_count": null,
            "_view_module_version": "1.5.0",
            "box_style": "",
            "layout": "IPY_MODEL_ce99dc00e26b4fffad2ecb38c9f9ac85",
            "_model_module": "@jupyter-widgets/controls",
            "children": [
              "IPY_MODEL_44912aa4144143c8bd68c2c0d6cc2d0c",
              "IPY_MODEL_ced60c77d82c4f74a2c76512da01ae0e",
              "IPY_MODEL_3d02957ebf8840eba3181a869aa0a87b"
            ]
          }
        },
        "ce99dc00e26b4fffad2ecb38c9f9ac85": {
          "model_module": "@jupyter-widgets/base",
          "model_name": "LayoutModel",
          "model_module_version": "1.2.0",
          "state": {
            "_view_name": "LayoutView",
            "grid_template_rows": null,
            "right": null,
            "justify_content": null,
            "_view_module": "@jupyter-widgets/base",
            "overflow": null,
            "_model_module_version": "1.2.0",
            "_view_count": null,
            "flex_flow": null,
            "width": null,
            "min_width": null,
            "border": null,
            "align_items": null,
            "bottom": null,
            "_model_module": "@jupyter-widgets/base",
            "top": null,
            "grid_column": null,
            "overflow_y": null,
            "overflow_x": null,
            "grid_auto_flow": null,
            "grid_area": null,
            "grid_template_columns": null,
            "flex": null,
            "_model_name": "LayoutModel",
            "justify_items": null,
            "grid_row": null,
            "max_height": null,
            "align_content": null,
            "visibility": null,
            "align_self": null,
            "height": null,
            "min_height": null,
            "padding": null,
            "grid_auto_rows": null,
            "grid_gap": null,
            "max_width": null,
            "order": null,
            "_view_module_version": "1.2.0",
            "grid_template_areas": null,
            "object_position": null,
            "object_fit": null,
            "grid_auto_columns": null,
            "margin": null,
            "display": null,
            "left": null
          }
        },
        "44912aa4144143c8bd68c2c0d6cc2d0c": {
          "model_module": "@jupyter-widgets/controls",
          "model_name": "HTMLModel",
          "model_module_version": "1.5.0",
          "state": {
            "_view_name": "HTMLView",
            "style": "IPY_MODEL_20f39ebad79c4136bdf1fe911b7a680b",
            "_dom_classes": [],
            "description": "",
            "_model_name": "HTMLModel",
            "placeholder": "​",
            "_view_module": "@jupyter-widgets/controls",
            "_model_module_version": "1.5.0",
            "value": "",
            "_view_count": null,
            "_view_module_version": "1.5.0",
            "description_tooltip": null,
            "_model_module": "@jupyter-widgets/controls",
            "layout": "IPY_MODEL_5416b2d5046541d09198cb155b6f49e5"
          }
        },
        "ced60c77d82c4f74a2c76512da01ae0e": {
          "model_module": "@jupyter-widgets/controls",
          "model_name": "FloatProgressModel",
          "model_module_version": "1.5.0",
          "state": {
            "_view_name": "ProgressView",
            "style": "IPY_MODEL_9d299e56c3a54bcab28d29d0381bf290",
            "_dom_classes": [],
            "description": "",
            "_model_name": "FloatProgressModel",
            "bar_style": "success",
            "max": 1,
            "_view_module": "@jupyter-widgets/controls",
            "_model_module_version": "1.5.0",
            "value": 1,
            "_view_count": null,
            "_view_module_version": "1.5.0",
            "orientation": "horizontal",
            "min": 0,
            "description_tooltip": null,
            "_model_module": "@jupyter-widgets/controls",
            "layout": "IPY_MODEL_0a5c390203a246ce8730cf61f7d7c312"
          }
        },
        "3d02957ebf8840eba3181a869aa0a87b": {
          "model_module": "@jupyter-widgets/controls",
          "model_name": "HTMLModel",
          "model_module_version": "1.5.0",
          "state": {
            "_view_name": "HTMLView",
            "style": "IPY_MODEL_ee76857982054c5c817400e20145f239",
            "_dom_classes": [],
            "description": "",
            "_model_name": "HTMLModel",
            "placeholder": "​",
            "_view_module": "@jupyter-widgets/controls",
            "_model_module_version": "1.5.0",
            "value": " 22/? [00:01&lt;00:00, 14.25it/s]",
            "_view_count": null,
            "_view_module_version": "1.5.0",
            "description_tooltip": null,
            "_model_module": "@jupyter-widgets/controls",
            "layout": "IPY_MODEL_672e788307924b7cafc6f27792c600f6"
          }
        },
        "20f39ebad79c4136bdf1fe911b7a680b": {
          "model_module": "@jupyter-widgets/controls",
          "model_name": "DescriptionStyleModel",
          "model_module_version": "1.5.0",
          "state": {
            "_view_name": "StyleView",
            "_model_name": "DescriptionStyleModel",
            "description_width": "",
            "_view_module": "@jupyter-widgets/base",
            "_model_module_version": "1.5.0",
            "_view_count": null,
            "_view_module_version": "1.2.0",
            "_model_module": "@jupyter-widgets/controls"
          }
        },
        "5416b2d5046541d09198cb155b6f49e5": {
          "model_module": "@jupyter-widgets/base",
          "model_name": "LayoutModel",
          "model_module_version": "1.2.0",
          "state": {
            "_view_name": "LayoutView",
            "grid_template_rows": null,
            "right": null,
            "justify_content": null,
            "_view_module": "@jupyter-widgets/base",
            "overflow": null,
            "_model_module_version": "1.2.0",
            "_view_count": null,
            "flex_flow": null,
            "width": null,
            "min_width": null,
            "border": null,
            "align_items": null,
            "bottom": null,
            "_model_module": "@jupyter-widgets/base",
            "top": null,
            "grid_column": null,
            "overflow_y": null,
            "overflow_x": null,
            "grid_auto_flow": null,
            "grid_area": null,
            "grid_template_columns": null,
            "flex": null,
            "_model_name": "LayoutModel",
            "justify_items": null,
            "grid_row": null,
            "max_height": null,
            "align_content": null,
            "visibility": null,
            "align_self": null,
            "height": null,
            "min_height": null,
            "padding": null,
            "grid_auto_rows": null,
            "grid_gap": null,
            "max_width": null,
            "order": null,
            "_view_module_version": "1.2.0",
            "grid_template_areas": null,
            "object_position": null,
            "object_fit": null,
            "grid_auto_columns": null,
            "margin": null,
            "display": null,
            "left": null
          }
        },
        "9d299e56c3a54bcab28d29d0381bf290": {
          "model_module": "@jupyter-widgets/controls",
          "model_name": "ProgressStyleModel",
          "model_module_version": "1.5.0",
          "state": {
            "_view_name": "StyleView",
            "_model_name": "ProgressStyleModel",
            "description_width": "",
            "_view_module": "@jupyter-widgets/base",
            "_model_module_version": "1.5.0",
            "_view_count": null,
            "_view_module_version": "1.2.0",
            "bar_color": null,
            "_model_module": "@jupyter-widgets/controls"
          }
        },
        "0a5c390203a246ce8730cf61f7d7c312": {
          "model_module": "@jupyter-widgets/base",
          "model_name": "LayoutModel",
          "model_module_version": "1.2.0",
          "state": {
            "_view_name": "LayoutView",
            "grid_template_rows": null,
            "right": null,
            "justify_content": null,
            "_view_module": "@jupyter-widgets/base",
            "overflow": null,
            "_model_module_version": "1.2.0",
            "_view_count": null,
            "flex_flow": null,
            "width": "20px",
            "min_width": null,
            "border": null,
            "align_items": null,
            "bottom": null,
            "_model_module": "@jupyter-widgets/base",
            "top": null,
            "grid_column": null,
            "overflow_y": null,
            "overflow_x": null,
            "grid_auto_flow": null,
            "grid_area": null,
            "grid_template_columns": null,
            "flex": null,
            "_model_name": "LayoutModel",
            "justify_items": null,
            "grid_row": null,
            "max_height": null,
            "align_content": null,
            "visibility": null,
            "align_self": null,
            "height": null,
            "min_height": null,
            "padding": null,
            "grid_auto_rows": null,
            "grid_gap": null,
            "max_width": null,
            "order": null,
            "_view_module_version": "1.2.0",
            "grid_template_areas": null,
            "object_position": null,
            "object_fit": null,
            "grid_auto_columns": null,
            "margin": null,
            "display": null,
            "left": null
          }
        },
        "ee76857982054c5c817400e20145f239": {
          "model_module": "@jupyter-widgets/controls",
          "model_name": "DescriptionStyleModel",
          "model_module_version": "1.5.0",
          "state": {
            "_view_name": "StyleView",
            "_model_name": "DescriptionStyleModel",
            "description_width": "",
            "_view_module": "@jupyter-widgets/base",
            "_model_module_version": "1.5.0",
            "_view_count": null,
            "_view_module_version": "1.2.0",
            "_model_module": "@jupyter-widgets/controls"
          }
        },
        "672e788307924b7cafc6f27792c600f6": {
          "model_module": "@jupyter-widgets/base",
          "model_name": "LayoutModel",
          "model_module_version": "1.2.0",
          "state": {
            "_view_name": "LayoutView",
            "grid_template_rows": null,
            "right": null,
            "justify_content": null,
            "_view_module": "@jupyter-widgets/base",
            "overflow": null,
            "_model_module_version": "1.2.0",
            "_view_count": null,
            "flex_flow": null,
            "width": null,
            "min_width": null,
            "border": null,
            "align_items": null,
            "bottom": null,
            "_model_module": "@jupyter-widgets/base",
            "top": null,
            "grid_column": null,
            "overflow_y": null,
            "overflow_x": null,
            "grid_auto_flow": null,
            "grid_area": null,
            "grid_template_columns": null,
            "flex": null,
            "_model_name": "LayoutModel",
            "justify_items": null,
            "grid_row": null,
            "max_height": null,
            "align_content": null,
            "visibility": null,
            "align_self": null,
            "height": null,
            "min_height": null,
            "padding": null,
            "grid_auto_rows": null,
            "grid_gap": null,
            "max_width": null,
            "order": null,
            "_view_module_version": "1.2.0",
            "grid_template_areas": null,
            "object_position": null,
            "object_fit": null,
            "grid_auto_columns": null,
            "margin": null,
            "display": null,
            "left": null
          }
        }
      }
    }
  },
  "cells": [
    {
      "cell_type": "markdown",
      "metadata": {
        "id": "e1iIUbco-MUW"
      },
      "source": [
        "<img src=\"https://s8.hostingkartinok.com/uploads/images/2018/08/308b49fcfbc619d629fe4604bceb67ac.jpg\" width=500, height=450>\n",
        "<h3 style=\"text-align: center;\"><b>Физтех-Школа Прикладной математики и информатики (ФПМИ) МФТИ</b></h3>"
      ]
    },
    {
      "cell_type": "markdown",
      "metadata": {
        "id": "C92zrw07_C39"
      },
      "source": [
        "Для быстрого выполнения просмотрите [семинар](https://drive.google.com/file/d/1w_rTEWXQ_SA4YPXFjpkM0aU51bDgWLyI/view?usp=sharing)."
      ]
    },
    {
      "cell_type": "markdown",
      "metadata": {
        "id": "izA3-6kffbdT"
      },
      "source": [
        "\n",
        "### Models: Sentence Sentiment Classification\n",
        "Our goal is to create a model that takes a sentence (just like the ones in our dataset) and produces either 1 (indicating the sentence carries a positive sentiment) or a 0 (indicating the sentence carries a negative sentiment). We can think of it as looking like this:\n",
        "\n",
        "<img src=\"https://jalammar.github.io/images/distilBERT/sentiment-classifier-1.png\" />\n",
        "\n",
        "Under the hood, the model is actually made up of two model.\n",
        "\n",
        "* DistilBERT processes the sentence and passes along some information it extracted from it on to the next model. DistilBERT is a smaller version of BERT developed and open sourced by the team at HuggingFace. It’s a lighter and faster version of BERT that roughly matches its performance.\n",
        "* The next model, a basic Logistic Regression model from scikit learn will take in the result of DistilBERT’s processing, and classify the sentence as either positive or negative (1 or 0, respectively).\n",
        "\n",
        "The data we pass between the two models is a vector of size 768. We can think of this of vector as an embedding for the sentence that we can use for classification.\n",
        "\n",
        "\n",
        "<img src=\"https://jalammar.github.io/images/distilBERT/distilbert-bert-sentiment-classifier.png\" />\n",
        "\n",
        "## Dataset\n",
        "The dataset we will use in this example is [SST2](https://nlp.stanford.edu/sentiment/index.html), which contains sentences from movie reviews, each labeled as either positive (has the value 1) or negative (has the value 0):\n",
        "\n",
        "\n",
        "<table class=\"features-table\">\n",
        "  <tr>\n",
        "    <th class=\"mdc-text-light-green-600\">\n",
        "    sentence\n",
        "    </th>\n",
        "    <th class=\"mdc-text-purple-600\">\n",
        "    label\n",
        "    </th>\n",
        "  </tr>\n",
        "  <tr>\n",
        "    <td class=\"mdc-bg-light-green-50\" style=\"text-align:left\">\n",
        "      a stirring , funny and finally transporting re imagining of beauty and the beast and 1930s horror films\n",
        "    </td>\n",
        "    <td class=\"mdc-bg-purple-50\">\n",
        "      1\n",
        "    </td>\n",
        "  </tr>\n",
        "  <tr>\n",
        "    <td class=\"mdc-bg-light-green-50\" style=\"text-align:left\">\n",
        "      apparently reassembled from the cutting room floor of any given daytime soap\n",
        "    </td>\n",
        "    <td class=\"mdc-bg-purple-50\">\n",
        "      0\n",
        "    </td>\n",
        "  </tr>\n",
        "  <tr>\n",
        "    <td class=\"mdc-bg-light-green-50\" style=\"text-align:left\">\n",
        "      they presume their audience won't sit still for a sociology lesson\n",
        "    </td>\n",
        "    <td class=\"mdc-bg-purple-50\">\n",
        "      0\n",
        "    </td>\n",
        "  </tr>\n",
        "  <tr>\n",
        "    <td class=\"mdc-bg-light-green-50\" style=\"text-align:left\">\n",
        "      this is a visually stunning rumination on love , memory , history and the war between art and commerce\n",
        "    </td>\n",
        "    <td class=\"mdc-bg-purple-50\">\n",
        "      1\n",
        "    </td>\n",
        "  </tr>\n",
        "  <tr>\n",
        "    <td class=\"mdc-bg-light-green-50\" style=\"text-align:left\">\n",
        "      jonathan parker 's bartleby should have been the be all end all of the modern office anomie films\n",
        "    </td>\n",
        "    <td class=\"mdc-bg-purple-50\">\n",
        "      1\n",
        "    </td>\n",
        "  </tr>\n",
        "</table>\n",
        "\n",
        "## Installing the transformers library\n",
        "Let's start by installing the huggingface transformers library so we can load our deep learning NLP model."
      ]
    },
    {
      "cell_type": "code",
      "metadata": {
        "id": "To9ENLU90WGl",
        "colab": {
          "base_uri": "https://localhost:8080/"
        },
        "outputId": "ee39fd7c-2b2e-4ae3-914c-160624a69734"
      },
      "source": [
        "!pip install transformers"
      ],
      "execution_count": null,
      "outputs": [
        {
          "output_type": "stream",
          "name": "stdout",
          "text": [
            "Requirement already satisfied: transformers in /usr/local/lib/python3.7/dist-packages (4.12.5)\n",
            "Requirement already satisfied: packaging>=20.0 in /usr/local/lib/python3.7/dist-packages (from transformers) (21.3)\n",
            "Requirement already satisfied: tokenizers<0.11,>=0.10.1 in /usr/local/lib/python3.7/dist-packages (from transformers) (0.10.3)\n",
            "Requirement already satisfied: pyyaml>=5.1 in /usr/local/lib/python3.7/dist-packages (from transformers) (6.0)\n",
            "Requirement already satisfied: sacremoses in /usr/local/lib/python3.7/dist-packages (from transformers) (0.0.46)\n",
            "Requirement already satisfied: regex!=2019.12.17 in /usr/local/lib/python3.7/dist-packages (from transformers) (2019.12.20)\n",
            "Requirement already satisfied: huggingface-hub<1.0,>=0.1.0 in /usr/local/lib/python3.7/dist-packages (from transformers) (0.1.2)\n",
            "Requirement already satisfied: requests in /usr/local/lib/python3.7/dist-packages (from transformers) (2.23.0)\n",
            "Requirement already satisfied: importlib-metadata in /usr/local/lib/python3.7/dist-packages (from transformers) (4.8.2)\n",
            "Requirement already satisfied: numpy>=1.17 in /usr/local/lib/python3.7/dist-packages (from transformers) (1.19.5)\n",
            "Requirement already satisfied: filelock in /usr/local/lib/python3.7/dist-packages (from transformers) (3.4.0)\n",
            "Requirement already satisfied: tqdm>=4.27 in /usr/local/lib/python3.7/dist-packages (from transformers) (4.62.3)\n",
            "Requirement already satisfied: typing-extensions>=3.7.4.3 in /usr/local/lib/python3.7/dist-packages (from huggingface-hub<1.0,>=0.1.0->transformers) (3.10.0.2)\n",
            "Requirement already satisfied: pyparsing!=3.0.5,>=2.0.2 in /usr/local/lib/python3.7/dist-packages (from packaging>=20.0->transformers) (3.0.6)\n",
            "Requirement already satisfied: zipp>=0.5 in /usr/local/lib/python3.7/dist-packages (from importlib-metadata->transformers) (3.6.0)\n",
            "Requirement already satisfied: idna<3,>=2.5 in /usr/local/lib/python3.7/dist-packages (from requests->transformers) (2.10)\n",
            "Requirement already satisfied: certifi>=2017.4.17 in /usr/local/lib/python3.7/dist-packages (from requests->transformers) (2021.10.8)\n",
            "Requirement already satisfied: urllib3!=1.25.0,!=1.25.1,<1.26,>=1.21.1 in /usr/local/lib/python3.7/dist-packages (from requests->transformers) (1.24.3)\n",
            "Requirement already satisfied: chardet<4,>=3.0.2 in /usr/local/lib/python3.7/dist-packages (from requests->transformers) (3.0.4)\n",
            "Requirement already satisfied: joblib in /usr/local/lib/python3.7/dist-packages (from sacremoses->transformers) (1.1.0)\n",
            "Requirement already satisfied: click in /usr/local/lib/python3.7/dist-packages (from sacremoses->transformers) (7.1.2)\n",
            "Requirement already satisfied: six in /usr/local/lib/python3.7/dist-packages (from sacremoses->transformers) (1.15.0)\n"
          ]
        }
      ]
    },
    {
      "cell_type": "markdown",
      "metadata": {
        "id": "SE_BCSZy7gla"
      },
      "source": [
        "[Transformers library doc](https://huggingface.co/transformers/)"
      ]
    },
    {
      "cell_type": "markdown",
      "metadata": {
        "id": "2cGw5Gn38jw3"
      },
      "source": [
        "![image.png](data:image/png;base64,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)"
      ]
    },
    {
      "cell_type": "code",
      "metadata": {
        "id": "fvFvBLJV0Dkv"
      },
      "source": [
        "import numpy as np\n",
        "import pandas as pd\n",
        "from sklearn.model_selection import train_test_split\n",
        "from sklearn.linear_model import LogisticRegression\n",
        "from sklearn.model_selection import GridSearchCV\n",
        "from sklearn.model_selection import cross_val_score\n",
        "import torch\n",
        "import transformers as ppb\n",
        "import warnings\n",
        "warnings.filterwarnings('ignore')"
      ],
      "execution_count": null,
      "outputs": []
    },
    {
      "cell_type": "markdown",
      "metadata": {
        "id": "tQ3ssau0uXn9"
      },
      "source": [
        "### Importing the dataset"
      ]
    },
    {
      "cell_type": "code",
      "metadata": {
        "id": "uJ6-Ce3Fuhno",
        "colab": {
          "base_uri": "https://localhost:8080/",
          "height": 223
        },
        "outputId": "bb6b1f23-f3f1-4117-ef9b-23f2dc3bf811"
      },
      "source": [
        "df = pd.read_csv(\n",
        "    'https://github.com/clairett/pytorch-sentiment-classification/raw/master/data/SST2/train.tsv',\n",
        "    delimiter='\\t',\n",
        "    header=None\n",
        ")\n",
        "print(df.shape)\n",
        "df.head()"
      ],
      "execution_count": null,
      "outputs": [
        {
          "output_type": "stream",
          "name": "stdout",
          "text": [
            "(6920, 2)\n"
          ]
        },
        {
          "output_type": "execute_result",
          "data": {
            "text/html": [
              "<div>\n",
              "<style scoped>\n",
              "    .dataframe tbody tr th:only-of-type {\n",
              "        vertical-align: middle;\n",
              "    }\n",
              "\n",
              "    .dataframe tbody tr th {\n",
              "        vertical-align: top;\n",
              "    }\n",
              "\n",
              "    .dataframe thead th {\n",
              "        text-align: right;\n",
              "    }\n",
              "</style>\n",
              "<table border=\"1\" class=\"dataframe\">\n",
              "  <thead>\n",
              "    <tr style=\"text-align: right;\">\n",
              "      <th></th>\n",
              "      <th>0</th>\n",
              "      <th>1</th>\n",
              "    </tr>\n",
              "  </thead>\n",
              "  <tbody>\n",
              "    <tr>\n",
              "      <th>0</th>\n",
              "      <td>a stirring , funny and finally transporting re...</td>\n",
              "      <td>1</td>\n",
              "    </tr>\n",
              "    <tr>\n",
              "      <th>1</th>\n",
              "      <td>apparently reassembled from the cutting room f...</td>\n",
              "      <td>0</td>\n",
              "    </tr>\n",
              "    <tr>\n",
              "      <th>2</th>\n",
              "      <td>they presume their audience wo n't sit still f...</td>\n",
              "      <td>0</td>\n",
              "    </tr>\n",
              "    <tr>\n",
              "      <th>3</th>\n",
              "      <td>this is a visually stunning rumination on love...</td>\n",
              "      <td>1</td>\n",
              "    </tr>\n",
              "    <tr>\n",
              "      <th>4</th>\n",
              "      <td>jonathan parker 's bartleby should have been t...</td>\n",
              "      <td>1</td>\n",
              "    </tr>\n",
              "  </tbody>\n",
              "</table>\n",
              "</div>"
            ],
            "text/plain": [
              "                                                   0  1\n",
              "0  a stirring , funny and finally transporting re...  1\n",
              "1  apparently reassembled from the cutting room f...  0\n",
              "2  they presume their audience wo n't sit still f...  0\n",
              "3  this is a visually stunning rumination on love...  1\n",
              "4  jonathan parker 's bartleby should have been t...  1"
            ]
          },
          "metadata": {},
          "execution_count": 3
        }
      ]
    },
    {
      "cell_type": "markdown",
      "metadata": {
        "id": "zQ-42fh0hjsF"
      },
      "source": [
        "### Using BERT for text classification.\n",
        "\n",
        "Let's now load a pre-trained BERT model. "
      ]
    },
    {
      "cell_type": "code",
      "metadata": {
        "id": "q1InADgf5xm2",
        "colab": {
          "base_uri": "https://localhost:8080/"
        },
        "outputId": "639ccbf8-af3e-4fff-e12e-a58339386350"
      },
      "source": [
        "# For DistilBERT, Load pretrained model/tokenizer:\n",
        "\n",
        "model_class, tokenizer_class, pretrained_weights = (ppb.DistilBertModel, ppb.DistilBertTokenizer, 'distilbert-base-uncased')\n",
        "tokenizer = tokenizer_class.from_pretrained(pretrained_weights)\n",
        "model = model_class.from_pretrained(pretrained_weights)"
      ],
      "execution_count": null,
      "outputs": [
        {
          "output_type": "stream",
          "name": "stderr",
          "text": [
            "Some weights of the model checkpoint at distilbert-base-uncased were not used when initializing DistilBertModel: ['vocab_transform.weight', 'vocab_layer_norm.weight', 'vocab_projector.weight', 'vocab_projector.bias', 'vocab_layer_norm.bias', 'vocab_transform.bias']\n",
            "- This IS expected if you are initializing DistilBertModel from the checkpoint of a model trained on another task or with another architecture (e.g. initializing a BertForSequenceClassification model from a BertForPreTraining model).\n",
            "- This IS NOT expected if you are initializing DistilBertModel from the checkpoint of a model that you expect to be exactly identical (initializing a BertForSequenceClassification model from a BertForSequenceClassification model).\n"
          ]
        }
      ]
    },
    {
      "cell_type": "code",
      "metadata": {
        "id": "upZ1QhENynAx",
        "colab": {
          "base_uri": "https://localhost:8080/"
        },
        "outputId": "3ad592af-bd9d-484c-f805-152e94cee2ce"
      },
      "source": [
        "# look at the model\n",
        "device = torch.device('cuda' if torch.cuda.is_available() else 'cpu')\n",
        "model = model.to(device)\n",
        "model.eval()"
      ],
      "execution_count": null,
      "outputs": [
        {
          "output_type": "execute_result",
          "data": {
            "text/plain": [
              "DistilBertModel(\n",
              "  (embeddings): Embeddings(\n",
              "    (word_embeddings): Embedding(30522, 768, padding_idx=0)\n",
              "    (position_embeddings): Embedding(512, 768)\n",
              "    (LayerNorm): LayerNorm((768,), eps=1e-12, elementwise_affine=True)\n",
              "    (dropout): Dropout(p=0.1, inplace=False)\n",
              "  )\n",
              "  (transformer): Transformer(\n",
              "    (layer): ModuleList(\n",
              "      (0): TransformerBlock(\n",
              "        (attention): MultiHeadSelfAttention(\n",
              "          (dropout): Dropout(p=0.1, inplace=False)\n",
              "          (q_lin): Linear(in_features=768, out_features=768, bias=True)\n",
              "          (k_lin): Linear(in_features=768, out_features=768, bias=True)\n",
              "          (v_lin): Linear(in_features=768, out_features=768, bias=True)\n",
              "          (out_lin): Linear(in_features=768, out_features=768, bias=True)\n",
              "        )\n",
              "        (sa_layer_norm): LayerNorm((768,), eps=1e-12, elementwise_affine=True)\n",
              "        (ffn): FFN(\n",
              "          (dropout): Dropout(p=0.1, inplace=False)\n",
              "          (lin1): Linear(in_features=768, out_features=3072, bias=True)\n",
              "          (lin2): Linear(in_features=3072, out_features=768, bias=True)\n",
              "        )\n",
              "        (output_layer_norm): LayerNorm((768,), eps=1e-12, elementwise_affine=True)\n",
              "      )\n",
              "      (1): TransformerBlock(\n",
              "        (attention): MultiHeadSelfAttention(\n",
              "          (dropout): Dropout(p=0.1, inplace=False)\n",
              "          (q_lin): Linear(in_features=768, out_features=768, bias=True)\n",
              "          (k_lin): Linear(in_features=768, out_features=768, bias=True)\n",
              "          (v_lin): Linear(in_features=768, out_features=768, bias=True)\n",
              "          (out_lin): Linear(in_features=768, out_features=768, bias=True)\n",
              "        )\n",
              "        (sa_layer_norm): LayerNorm((768,), eps=1e-12, elementwise_affine=True)\n",
              "        (ffn): FFN(\n",
              "          (dropout): Dropout(p=0.1, inplace=False)\n",
              "          (lin1): Linear(in_features=768, out_features=3072, bias=True)\n",
              "          (lin2): Linear(in_features=3072, out_features=768, bias=True)\n",
              "        )\n",
              "        (output_layer_norm): LayerNorm((768,), eps=1e-12, elementwise_affine=True)\n",
              "      )\n",
              "      (2): TransformerBlock(\n",
              "        (attention): MultiHeadSelfAttention(\n",
              "          (dropout): Dropout(p=0.1, inplace=False)\n",
              "          (q_lin): Linear(in_features=768, out_features=768, bias=True)\n",
              "          (k_lin): Linear(in_features=768, out_features=768, bias=True)\n",
              "          (v_lin): Linear(in_features=768, out_features=768, bias=True)\n",
              "          (out_lin): Linear(in_features=768, out_features=768, bias=True)\n",
              "        )\n",
              "        (sa_layer_norm): LayerNorm((768,), eps=1e-12, elementwise_affine=True)\n",
              "        (ffn): FFN(\n",
              "          (dropout): Dropout(p=0.1, inplace=False)\n",
              "          (lin1): Linear(in_features=768, out_features=3072, bias=True)\n",
              "          (lin2): Linear(in_features=3072, out_features=768, bias=True)\n",
              "        )\n",
              "        (output_layer_norm): LayerNorm((768,), eps=1e-12, elementwise_affine=True)\n",
              "      )\n",
              "      (3): TransformerBlock(\n",
              "        (attention): MultiHeadSelfAttention(\n",
              "          (dropout): Dropout(p=0.1, inplace=False)\n",
              "          (q_lin): Linear(in_features=768, out_features=768, bias=True)\n",
              "          (k_lin): Linear(in_features=768, out_features=768, bias=True)\n",
              "          (v_lin): Linear(in_features=768, out_features=768, bias=True)\n",
              "          (out_lin): Linear(in_features=768, out_features=768, bias=True)\n",
              "        )\n",
              "        (sa_layer_norm): LayerNorm((768,), eps=1e-12, elementwise_affine=True)\n",
              "        (ffn): FFN(\n",
              "          (dropout): Dropout(p=0.1, inplace=False)\n",
              "          (lin1): Linear(in_features=768, out_features=3072, bias=True)\n",
              "          (lin2): Linear(in_features=3072, out_features=768, bias=True)\n",
              "        )\n",
              "        (output_layer_norm): LayerNorm((768,), eps=1e-12, elementwise_affine=True)\n",
              "      )\n",
              "      (4): TransformerBlock(\n",
              "        (attention): MultiHeadSelfAttention(\n",
              "          (dropout): Dropout(p=0.1, inplace=False)\n",
              "          (q_lin): Linear(in_features=768, out_features=768, bias=True)\n",
              "          (k_lin): Linear(in_features=768, out_features=768, bias=True)\n",
              "          (v_lin): Linear(in_features=768, out_features=768, bias=True)\n",
              "          (out_lin): Linear(in_features=768, out_features=768, bias=True)\n",
              "        )\n",
              "        (sa_layer_norm): LayerNorm((768,), eps=1e-12, elementwise_affine=True)\n",
              "        (ffn): FFN(\n",
              "          (dropout): Dropout(p=0.1, inplace=False)\n",
              "          (lin1): Linear(in_features=768, out_features=3072, bias=True)\n",
              "          (lin2): Linear(in_features=3072, out_features=768, bias=True)\n",
              "        )\n",
              "        (output_layer_norm): LayerNorm((768,), eps=1e-12, elementwise_affine=True)\n",
              "      )\n",
              "      (5): TransformerBlock(\n",
              "        (attention): MultiHeadSelfAttention(\n",
              "          (dropout): Dropout(p=0.1, inplace=False)\n",
              "          (q_lin): Linear(in_features=768, out_features=768, bias=True)\n",
              "          (k_lin): Linear(in_features=768, out_features=768, bias=True)\n",
              "          (v_lin): Linear(in_features=768, out_features=768, bias=True)\n",
              "          (out_lin): Linear(in_features=768, out_features=768, bias=True)\n",
              "        )\n",
              "        (sa_layer_norm): LayerNorm((768,), eps=1e-12, elementwise_affine=True)\n",
              "        (ffn): FFN(\n",
              "          (dropout): Dropout(p=0.1, inplace=False)\n",
              "          (lin1): Linear(in_features=768, out_features=3072, bias=True)\n",
              "          (lin2): Linear(in_features=3072, out_features=768, bias=True)\n",
              "        )\n",
              "        (output_layer_norm): LayerNorm((768,), eps=1e-12, elementwise_affine=True)\n",
              "      )\n",
              "    )\n",
              "  )\n",
              ")"
            ]
          },
          "metadata": {},
          "execution_count": 5
        }
      ]
    },
    {
      "cell_type": "code",
      "metadata": {
        "id": "z_4-2luNzrMI",
        "colab": {
          "base_uri": "https://localhost:8080/"
        },
        "outputId": "95ff401d-1f04-46b6-96ab-677eab85431c"
      },
      "source": [
        "from termcolor import colored\n",
        "\n",
        "colors = ['red', 'green', 'blue', 'yellow']\n",
        "\n",
        "def model_structure(layer, margin=0, item_color=0):\n",
        "    for name, next_layer in layer.named_children():\n",
        "\n",
        "        next = (0 if not list(next_layer.named_children()) else 1)\n",
        "        print(colored(' ' * margin + name, colors[item_color]) + ':' * next)\n",
        "        model_structure(next_layer, margin + len(name) + 2, (item_color + 1) % 4)\n",
        "\n",
        "model_structure(model)"
      ],
      "execution_count": null,
      "outputs": [
        {
          "output_type": "stream",
          "name": "stdout",
          "text": [
            "\u001b[31membeddings\u001b[0m:\n",
            "\u001b[32m            word_embeddings\u001b[0m\n",
            "\u001b[32m            position_embeddings\u001b[0m\n",
            "\u001b[32m            LayerNorm\u001b[0m\n",
            "\u001b[32m            dropout\u001b[0m\n",
            "\u001b[31mtransformer\u001b[0m:\n",
            "\u001b[32m             layer\u001b[0m:\n",
            "\u001b[34m                    0\u001b[0m:\n",
            "\u001b[33m                       attention\u001b[0m:\n",
            "\u001b[31m                                  dropout\u001b[0m\n",
            "\u001b[31m                                  q_lin\u001b[0m\n",
            "\u001b[31m                                  k_lin\u001b[0m\n",
            "\u001b[31m                                  v_lin\u001b[0m\n",
            "\u001b[31m                                  out_lin\u001b[0m\n",
            "\u001b[33m                       sa_layer_norm\u001b[0m\n",
            "\u001b[33m                       ffn\u001b[0m:\n",
            "\u001b[31m                            dropout\u001b[0m\n",
            "\u001b[31m                            lin1\u001b[0m\n",
            "\u001b[31m                            lin2\u001b[0m\n",
            "\u001b[33m                       output_layer_norm\u001b[0m\n",
            "\u001b[34m                    1\u001b[0m:\n",
            "\u001b[33m                       attention\u001b[0m:\n",
            "\u001b[31m                                  dropout\u001b[0m\n",
            "\u001b[31m                                  q_lin\u001b[0m\n",
            "\u001b[31m                                  k_lin\u001b[0m\n",
            "\u001b[31m                                  v_lin\u001b[0m\n",
            "\u001b[31m                                  out_lin\u001b[0m\n",
            "\u001b[33m                       sa_layer_norm\u001b[0m\n",
            "\u001b[33m                       ffn\u001b[0m:\n",
            "\u001b[31m                            dropout\u001b[0m\n",
            "\u001b[31m                            lin1\u001b[0m\n",
            "\u001b[31m                            lin2\u001b[0m\n",
            "\u001b[33m                       output_layer_norm\u001b[0m\n",
            "\u001b[34m                    2\u001b[0m:\n",
            "\u001b[33m                       attention\u001b[0m:\n",
            "\u001b[31m                                  dropout\u001b[0m\n",
            "\u001b[31m                                  q_lin\u001b[0m\n",
            "\u001b[31m                                  k_lin\u001b[0m\n",
            "\u001b[31m                                  v_lin\u001b[0m\n",
            "\u001b[31m                                  out_lin\u001b[0m\n",
            "\u001b[33m                       sa_layer_norm\u001b[0m\n",
            "\u001b[33m                       ffn\u001b[0m:\n",
            "\u001b[31m                            dropout\u001b[0m\n",
            "\u001b[31m                            lin1\u001b[0m\n",
            "\u001b[31m                            lin2\u001b[0m\n",
            "\u001b[33m                       output_layer_norm\u001b[0m\n",
            "\u001b[34m                    3\u001b[0m:\n",
            "\u001b[33m                       attention\u001b[0m:\n",
            "\u001b[31m                                  dropout\u001b[0m\n",
            "\u001b[31m                                  q_lin\u001b[0m\n",
            "\u001b[31m                                  k_lin\u001b[0m\n",
            "\u001b[31m                                  v_lin\u001b[0m\n",
            "\u001b[31m                                  out_lin\u001b[0m\n",
            "\u001b[33m                       sa_layer_norm\u001b[0m\n",
            "\u001b[33m                       ffn\u001b[0m:\n",
            "\u001b[31m                            dropout\u001b[0m\n",
            "\u001b[31m                            lin1\u001b[0m\n",
            "\u001b[31m                            lin2\u001b[0m\n",
            "\u001b[33m                       output_layer_norm\u001b[0m\n",
            "\u001b[34m                    4\u001b[0m:\n",
            "\u001b[33m                       attention\u001b[0m:\n",
            "\u001b[31m                                  dropout\u001b[0m\n",
            "\u001b[31m                                  q_lin\u001b[0m\n",
            "\u001b[31m                                  k_lin\u001b[0m\n",
            "\u001b[31m                                  v_lin\u001b[0m\n",
            "\u001b[31m                                  out_lin\u001b[0m\n",
            "\u001b[33m                       sa_layer_norm\u001b[0m\n",
            "\u001b[33m                       ffn\u001b[0m:\n",
            "\u001b[31m                            dropout\u001b[0m\n",
            "\u001b[31m                            lin1\u001b[0m\n",
            "\u001b[31m                            lin2\u001b[0m\n",
            "\u001b[33m                       output_layer_norm\u001b[0m\n",
            "\u001b[34m                    5\u001b[0m:\n",
            "\u001b[33m                       attention\u001b[0m:\n",
            "\u001b[31m                                  dropout\u001b[0m\n",
            "\u001b[31m                                  q_lin\u001b[0m\n",
            "\u001b[31m                                  k_lin\u001b[0m\n",
            "\u001b[31m                                  v_lin\u001b[0m\n",
            "\u001b[31m                                  out_lin\u001b[0m\n",
            "\u001b[33m                       sa_layer_norm\u001b[0m\n",
            "\u001b[33m                       ffn\u001b[0m:\n",
            "\u001b[31m                            dropout\u001b[0m\n",
            "\u001b[31m                            lin1\u001b[0m\n",
            "\u001b[31m                            lin2\u001b[0m\n",
            "\u001b[33m                       output_layer_norm\u001b[0m\n"
          ]
        }
      ]
    },
    {
      "cell_type": "markdown",
      "metadata": {
        "id": "djzLTbFICMKb"
      },
      "source": [
        "### Preparing the dataset"
      ]
    },
    {
      "cell_type": "code",
      "metadata": {
        "id": "MeU0t-V_iFIT",
        "colab": {
          "base_uri": "https://localhost:8080/"
        },
        "outputId": "e3685b0b-0d56-4876-9485-51addfe51f4a"
      },
      "source": [
        "from torch.utils.data import Dataset, random_split\n",
        "\n",
        "class ReviewsDataset(Dataset):\n",
        "    def __init__(self, reviews, tokenizer, labels):\n",
        "        self.labels = labels\n",
        "        # tokenized reviews\n",
        "        self.tokenized = reviews.apply((lambda x: tokenizer.encode(x, add_special_tokens=True))) ####\n",
        "        # print(self.tokenized)\n",
        "    def __getitem__(self, idx):\n",
        "        return {\"tokenized\": self.tokenized[idx], \"label\": self.labels[idx]}\n",
        "\n",
        "    def __len__(self):\n",
        "        return len(self.labels)\n",
        "reviews = df.iloc[:, 0] ###\n",
        "labels = df.iloc[:, 1] ###\n",
        "dataset = ReviewsDataset(reviews, tokenizer, labels) ##\n",
        "\n",
        "# DON'T CHANGE, PLEASE\n",
        "train_size, val_size = int(.8 * len(dataset)), int(.1 * len(dataset))\n",
        "torch.manual_seed(2) \n",
        "train_data, valid_data, test_data = random_split(dataset, [train_size, val_size, len(dataset) - train_size - val_size])\n",
        "\n",
        "print(f\"Number of training examples: {len(train_data)}\")\n",
        "print(f\"Number of validation examples: {len(valid_data)}\")\n",
        "print(f\"Number of testing examples: {len(test_data)}\")"
      ],
      "execution_count": null,
      "outputs": [
        {
          "output_type": "stream",
          "name": "stdout",
          "text": [
            "Number of training examples: 5536\n",
            "Number of validation examples: 692\n",
            "Number of testing examples: 692\n"
          ]
        }
      ]
    },
    {
      "cell_type": "code",
      "metadata": {
        "id": "yOnSS1Mav6j9"
      },
      "source": [
        "from torch.utils.data import Sampler\n",
        "\n",
        "class ReviewsSampler(Sampler):\n",
        "    def __init__(self, subset, batch_size=32):\n",
        "        self.batch_size = batch_size\n",
        "        self.subset = subset\n",
        "\n",
        "        self.indices = subset.indices\n",
        "        # tokenized for our data\n",
        "        self.tokenized = np.array(subset.dataset.tokenized)[self.indices]\n",
        "\n",
        "    def __iter__(self):\n",
        "\n",
        "        batch_idx = []\n",
        "        # index in sorted data\n",
        "        for index in np.argsort(list(map(len, self.tokenized))):\n",
        "            batch_idx.append(index)\n",
        "            if len(batch_idx) == self.batch_size:\n",
        "                yield batch_idx\n",
        "                batch_idx = []\n",
        "\n",
        "        if len(batch_idx) > 0:\n",
        "            yield batch_idx\n",
        "\n",
        "    def __len__(self):\n",
        "        return len(self.dataset)"
      ],
      "execution_count": null,
      "outputs": []
    },
    {
      "cell_type": "code",
      "metadata": {
        "id": "E3aM7LgiLLny"
      },
      "source": [
        "from torch.utils.data import DataLoader\n",
        "\n",
        "def get_padded(values):\n",
        "    max_len = 0\n",
        "    for value in values:\n",
        "        if len(value) > max_len:\n",
        "            max_len = len(value)\n",
        "\n",
        "    padded = np.array([value + [0]*(max_len-len(value)) for value in values])\n",
        "\n",
        "    return padded\n",
        "\n",
        "def collate_fn(batch):\n",
        "\n",
        "    inputs = []\n",
        "    labels = []\n",
        "    for elem in batch:\n",
        "        inputs.append(elem['tokenized'])\n",
        "        labels.append(elem['label'])\n",
        "\n",
        "    inputs = get_padded(inputs) # padded inputs ####\n",
        "    # print('INPUTS,', inputs)\n",
        "    attention_mask = np.where(inputs != 0, 1, 0) ####\n",
        "\n",
        "    return {\"inputs\": torch.tensor(inputs), \"labels\": torch.FloatTensor(labels), 'attention_mask' : torch.tensor(attention_mask)}\n",
        "\n",
        "train_loader = DataLoader(train_data, batch_sampler=ReviewsSampler(train_data), collate_fn=collate_fn)\n",
        "valid_loader = DataLoader(valid_data, batch_sampler=ReviewsSampler(valid_data), collate_fn=collate_fn)\n",
        "test_loader = DataLoader(test_data, batch_sampler=ReviewsSampler(test_data), collate_fn=collate_fn)"
      ],
      "execution_count": null,
      "outputs": []
    },
    {
      "cell_type": "markdown",
      "metadata": {
        "id": "YWFRgM2DiPza"
      },
      "source": [
        "### Baseline"
      ]
    },
    {
      "cell_type": "markdown",
      "metadata": {
        "id": "PxSBRaod_71d"
      },
      "source": [
        "![image.png](data:image/png;base64,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)"
      ]
    },
    {
      "cell_type": "code",
      "metadata": {
        "id": "2_yei42fbJVF"
      },
      "source": [
        "from tqdm.notebook import tqdm\n",
        "\n",
        "def get_xy(loader):\n",
        "    features = []\n",
        "    labels = []\n",
        "\n",
        "    with torch.no_grad():\n",
        "        for batch in tqdm(loader):\n",
        "            \n",
        "            # don't forget about .to(device)\n",
        "            '''your code'''\n",
        "            last_hidden_states = model(batch['inputs'].to(device), attention_mask=batch['attention_mask'].to(device)) ###\n",
        "            labels.append(batch['labels']) ###\n",
        "            features.append(last_hidden_states[0].cpu())\n",
        "\n",
        "    features = torch.cat([elem[:, 0, :] for elem in features], dim=0).numpy()\n",
        "    labels = torch.cat(labels, dim=0).numpy()\n",
        "    \n",
        "    return features, labels"
      ],
      "execution_count": null,
      "outputs": []
    },
    {
      "cell_type": "code",
      "metadata": {
        "id": "gyLGGJQNeBKT",
        "colab": {
          "base_uri": "https://localhost:8080/",
          "height": 113,
          "referenced_widgets": [
            "463a291d1e8546aca8698bdb21f43cc6",
            "4fd1781c7a0c4414a8e1c25528ae8293",
            "d56e3fcc4e1f4cc8966d09042c225bbe",
            "b0751ebe64cc42cba78e60fd7f49ad03",
            "4af570b034314e7caf52fa45f69efb0e",
            "0694e0bb845742758950d8d7c3010920",
            "36c5108f2fa945509a304809e63efe90",
            "c5d00b71346849e4b7a1a2653a619282",
            "d35ddbeb34784da48b0e05670cc6f592",
            "df2ede5ef43d4609856755299022ab90",
            "2908a087e2f741429f3a7b43a0bb37cf",
            "9b12e25758e9415cb2bed868d90fd624",
            "1ae4f2d31a9a47898e90e6140f137e79",
            "36475be86bdc4024aee965318f432cad",
            "4148514c5d504257b04b848998a1f128",
            "a795711bd2ed4fa9aa5b45a560455910",
            "4b47e3abab3747f9828ab18b4b4f03ad",
            "90a9554b3c614d5384f3cee8cdebaf67",
            "7482791349ca4c9ab91b6cd319739c87",
            "64450857ba504a4ab51327dcfbfdfa63",
            "0bca983e2b344a8ca03ca9441ecf76d6",
            "54719f10c201457f81d977a59b347a7c",
            "b3607c9e20a2418ba08534f5d6604fe7",
            "fea9059a220345e5a1998ed93215f2c4",
            "6cedbf9aeaf847c0b2cad6327a76f59b",
            "4cdb97dd7b9d44a5bcc9d0cdefe99b5f",
            "6a1ea0bc7bbc4840ab7e42b26dd2390f",
            "8ee53e47b98d46d28f80a66ce35786c9",
            "2e4878f8adab4f89b88b29027f043820",
            "e86cbb5063274f55961ba60dbc62001c",
            "246a0301535747489011c5d75914f75c",
            "dc11042a56ae4f919e8435e687836935",
            "faa34b4e76a741a88d922185b63d3019"
          ]
        },
        "outputId": "6b9b70e4-b524-49cd-d7f8-562f16dcb885"
      },
      "source": [
        "train_features, train_labels = get_xy(train_loader)\n",
        "valid_features, valid_labels = get_xy(valid_loader)\n",
        "test_features, test_labels = get_xy(test_loader)"
      ],
      "execution_count": null,
      "outputs": [
        {
          "output_type": "display_data",
          "data": {
            "application/vnd.jupyter.widget-view+json": {
              "model_id": "463a291d1e8546aca8698bdb21f43cc6",
              "version_minor": 0,
              "version_major": 2
            },
            "text/plain": [
              "0it [00:00, ?it/s]"
            ]
          },
          "metadata": {}
        },
        {
          "output_type": "display_data",
          "data": {
            "application/vnd.jupyter.widget-view+json": {
              "model_id": "9b12e25758e9415cb2bed868d90fd624",
              "version_minor": 0,
              "version_major": 2
            },
            "text/plain": [
              "0it [00:00, ?it/s]"
            ]
          },
          "metadata": {}
        },
        {
          "output_type": "display_data",
          "data": {
            "application/vnd.jupyter.widget-view+json": {
              "model_id": "b3607c9e20a2418ba08534f5d6604fe7",
              "version_minor": 0,
              "version_major": 2
            },
            "text/plain": [
              "0it [00:00, ?it/s]"
            ]
          },
          "metadata": {}
        }
      ]
    },
    {
      "cell_type": "code",
      "metadata": {
        "id": "ddAqbkoU6PP9",
        "colab": {
          "base_uri": "https://localhost:8080/"
        },
        "outputId": "e68ab3c3-e180-4ae4-aa7a-9f8ea538fb04"
      },
      "source": [
        "lr_clf = LogisticRegression()\n",
        "lr_clf.fit(train_features, train_labels)\n",
        "lr_clf.score(test_features, test_labels)"
      ],
      "execution_count": null,
      "outputs": [
        {
          "output_type": "execute_result",
          "data": {
            "text/plain": [
              "0.815028901734104"
            ]
          },
          "metadata": {},
          "execution_count": 13
        }
      ]
    },
    {
      "cell_type": "markdown",
      "metadata": {
        "id": "mPDQXLsvvksr"
      },
      "source": [
        "### Fine-Tuning BERT\n",
        "\n",
        "Define the model"
      ]
    },
    {
      "cell_type": "code",
      "metadata": {
        "id": "Nqc8XCGgvwwM"
      },
      "source": [
        "from torch import nn\n",
        "\n",
        "class BertClassifier(nn.Module):\n",
        "    def __init__(self, pretrained_model, dropout=0.1):\n",
        "        super().__init__()\n",
        "\n",
        "        self.bert = pretrained_model\n",
        "        self.dropout = nn.Dropout(p=dropout)\n",
        "        # self.relu = nn.ReLU()\n",
        "        self.sigmoid = nn.Sigmoid()\n",
        "\n",
        "        self.linear1 = nn.Linear(768, 1)\n",
        "    \n",
        "    def forward(self, inputs, attention_mask):\n",
        "        \n",
        "        bert_out = self.bert(inputs, attention_mask=attention_mask)[0][:,0,:]\n",
        "\n",
        "        out = self.linear1(self.dropout(bert_out))\n",
        "\n",
        "        # proba = self.relu(out)\n",
        "        proba = self.sigmoid(out)\n",
        "\n",
        "        # proba = [batch_size, ] - probability to be positive\n",
        "        return proba"
      ],
      "execution_count": null,
      "outputs": []
    },
    {
      "cell_type": "code",
      "metadata": {
        "id": "qTkAshyP1Xvc",
        "colab": {
          "base_uri": "https://localhost:8080/"
        },
        "outputId": "56081f6f-6824-4024-a237-7ef9eb41b5d4"
      },
      "source": [
        "import torch.optim as optim\n",
        "\n",
        "# DON'T CHANGE\n",
        "model = model_class.from_pretrained(pretrained_weights).to(device)\n",
        "bert_clf = BertClassifier(model).to(device)\n",
        "# you can change\n",
        "optimizer = optim.Adam(bert_clf.parameters(), lr=2e-5)\n",
        "criterion = nn.BCELoss()"
      ],
      "execution_count": null,
      "outputs": [
        {
          "output_type": "stream",
          "name": "stderr",
          "text": [
            "Some weights of the model checkpoint at distilbert-base-uncased were not used when initializing DistilBertModel: ['vocab_transform.weight', 'vocab_layer_norm.weight', 'vocab_projector.weight', 'vocab_projector.bias', 'vocab_layer_norm.bias', 'vocab_transform.bias']\n",
            "- This IS expected if you are initializing DistilBertModel from the checkpoint of a model trained on another task or with another architecture (e.g. initializing a BertForSequenceClassification model from a BertForPreTraining model).\n",
            "- This IS NOT expected if you are initializing DistilBertModel from the checkpoint of a model that you expect to be exactly identical (initializing a BertForSequenceClassification model from a BertForSequenceClassification model).\n"
          ]
        }
      ]
    },
    {
      "cell_type": "code",
      "metadata": {
        "id": "cJNOuWjp19b3"
      },
      "source": [
        "def train(model, iterator, optimizer, criterion, clip, train_history=None, valid_history=None):\n",
        "    model.train()\n",
        "    \n",
        "    epoch_loss = 0\n",
        "    history = []\n",
        "    for i, batch in enumerate(iterator):\n",
        "        \n",
        "        # don't forget about .to(device)\n",
        "        '''your code'''\n",
        "        output = model(batch['inputs'].to(device), attention_mask=batch['attention_mask'].to(device))\n",
        "\n",
        "        labels = batch['labels'].unsqueeze(1).to(device)\n",
        "        \n",
        "        optimizer.zero_grad()\n",
        "        \n",
        "        '''your code'''\n",
        "\n",
        "        loss = criterion(output, labels) \n",
        "        loss.backward()\n",
        "        torch.nn.utils.clip_grad_norm_(model.parameters(), clip)\n",
        "        optimizer.step()\n",
        "        \n",
        "        epoch_loss += loss.item()\n",
        "        \n",
        "        history.append(loss.cpu().data.numpy())\n",
        "        if (i+1)%10==0:\n",
        "            fig, ax = plt.subplots(nrows=1, ncols=2, figsize=(12, 8))\n",
        "\n",
        "            clear_output(True)\n",
        "            ax[0].plot(history, label='train loss')\n",
        "            ax[0].set_xlabel('Batch')\n",
        "            ax[0].set_title('Train loss')\n",
        "            if train_history is not None:\n",
        "                ax[1].plot(train_history, label='general train history')\n",
        "                ax[1].set_xlabel('Epoch')\n",
        "            if valid_history is not None:\n",
        "                ax[1].plot(valid_history, label='general valid history')\n",
        "            plt.legend()\n",
        "            \n",
        "            plt.show()\n",
        "\n",
        "        \n",
        "    return epoch_loss / (i + 1)\n",
        "\n",
        "def evaluate(model, iterator, criterion):\n",
        "    \n",
        "    model.eval()\n",
        "    \n",
        "    epoch_loss = 0\n",
        "    \n",
        "    history = []\n",
        "    \n",
        "    with torch.no_grad():\n",
        "    \n",
        "        for i, batch in enumerate(iterator):\n",
        "\n",
        "            output = model(batch['inputs'].to(device), attention_mask=batch['attention_mask'].to(device))\n",
        "\n",
        "            labels = batch['labels'].unsqueeze(1).to(device)\n",
        "\n",
        "            loss = criterion(output, labels)\n",
        "            \n",
        "            epoch_loss += loss.item()\n",
        "        \n",
        "    return epoch_loss / (i + 1)\n",
        "\n",
        "def epoch_time(start_time, end_time):\n",
        "    elapsed_time = end_time - start_time\n",
        "    elapsed_mins = int(elapsed_time / 60)\n",
        "    elapsed_secs = int(elapsed_time - (elapsed_mins * 60))\n",
        "    return elapsed_mins, elapsed_secs"
      ],
      "execution_count": null,
      "outputs": []
    },
    {
      "cell_type": "code",
      "metadata": {
        "id": "NIVnALmc5h4X"
      },
      "source": [
        "import time\n",
        "import math\n",
        "import matplotlib\n",
        "matplotlib.rcParams.update({'figure.figsize': (16, 12), 'font.size': 14})\n",
        "import matplotlib.pyplot as plt\n",
        "%matplotlib inline\n",
        "from IPython.display import clear_output"
      ],
      "execution_count": null,
      "outputs": []
    },
    {
      "cell_type": "code",
      "metadata": {
        "id": "oQl5egf35jYA",
        "colab": {
          "base_uri": "https://localhost:8080/",
          "height": 545
        },
        "outputId": "d48a708a-e397-4b01-f3c6-9c4725097898"
      },
      "source": [
        "train_history = []\n",
        "valid_history = []\n",
        "\n",
        "N_EPOCHS = 3\n",
        "CLIP = 1\n",
        "\n",
        "best_valid_loss = float('inf')\n",
        "\n",
        "for epoch in range(N_EPOCHS):\n",
        "    \n",
        "    start_time = time.time()\n",
        "    \n",
        "    train_loss = train(bert_clf, train_loader, optimizer, criterion, CLIP, train_history, valid_history)\n",
        "    valid_loss = evaluate(bert_clf, valid_loader, criterion)\n",
        "    \n",
        "    end_time = time.time()\n",
        "    \n",
        "    epoch_mins, epoch_secs = epoch_time(start_time, end_time)\n",
        "    \n",
        "    if valid_loss < best_valid_loss:\n",
        "        best_valid_loss = valid_loss\n",
        "        torch.save(bert_clf.state_dict(), 'best-val-model.pt')\n",
        "    \n",
        "    train_history.append(train_loss)\n",
        "    valid_history.append(valid_loss)\n",
        "    print(f'Epoch: {epoch+1:02} | Time: {epoch_mins}m {epoch_secs}s')\n",
        "    print(f'\\tTrain Loss: {train_loss:.3f} | Train PPL: {math.exp(train_loss):7.3f}')\n",
        "    print(f'\\t Val. Loss: {valid_loss:.3f} |  Val. PPL: {math.exp(valid_loss):7.3f}')"
      ],
      "execution_count": null,
      "outputs": [
        {
          "output_type": "display_data",
          "data": {
            "image/png": "[encoded data removed]",
            "text/plain": [
              "<Figure size 864x576 with 2 Axes>"
            ]
          },
          "metadata": {
            "needs_background": "light"
          }
        },
        {
          "output_type": "stream",
          "name": "stdout",
          "text": [
            "Epoch: 03 | Time: 0m 39s\n",
            "\tTrain Loss: 0.123 | Train PPL:   1.130\n",
            "\t Val. Loss: 0.350 |  Val. PPL:   1.419\n"
          ]
        }
      ]
    },
    {
      "cell_type": "markdown",
      "metadata": {
        "id": "gnZfL9s1hj96"
      },
      "source": [
        "Predict"
      ]
    },
    {
      "cell_type": "code",
      "metadata": {
        "id": "RATjfVog5v9q",
        "colab": {
          "base_uri": "https://localhost:8080/",
          "height": 49,
          "referenced_widgets": [
            "272377d76e1d474ab177c778e6a6d597",
            "a831e70bf1bc4d6c9a43a55c9ca1a057",
            "a21efef03b1d462e94e100f123d38349",
            "c20a421bf56345d3b2b4c5512c4f7ffc",
            "f2eabbd3456a45828c98811910d4a2f0",
            "7ddc8d22471f4b009960ed91786ccca6",
            "9fb93519b7874638822e613aab983fef",
            "b177c8d6e4e54357a0e0f75962fa3b8a",
            "5e45d1d9bee8443d8f55e857652fd824",
            "0c9cd34990014a77bc4ff9ce100dbf72",
            "eebc2f46375a450495583a538badffc7"
          ]
        },
        "outputId": "78ec0ea0-bc2a-47cb-e457-45adcbfa1441"
      },
      "source": [
        "best_model = BertClassifier(model).to(device)\n",
        "best_model.load_state_dict(torch.load('best-val-model.pt'))\n",
        "\n",
        "pred_labels = []\n",
        "true_labels = []\n",
        "\n",
        "best_model.eval()\n",
        "with torch.no_grad():\n",
        "    for i, batch in tqdm(enumerate(test_loader)):\n",
        "\n",
        "        pred = torch.round(best_model(batch['inputs'].to(device), attention_mask=batch['attention_mask'].to(device)))\n",
        "        # pred = torch.round(probs)\n",
        "        labels = batch['labels']\n",
        "        true_labels.append(labels.numpy())\n",
        "        pred_labels.append(pred.cpu().numpy())"
      ],
      "execution_count": null,
      "outputs": [
        {
          "output_type": "display_data",
          "data": {
            "application/vnd.jupyter.widget-view+json": {
              "model_id": "272377d76e1d474ab177c778e6a6d597",
              "version_minor": 0,
              "version_major": 2
            },
            "text/plain": [
              "0it [00:00, ?it/s]"
            ]
          },
          "metadata": {}
        }
      ]
    },
    {
      "cell_type": "code",
      "metadata": {
        "id": "TVK9WNKDDH4o",
        "colab": {
          "base_uri": "https://localhost:8080/"
        },
        "outputId": "20c80b60-c45d-4227-8b9f-bef79d4465fa"
      },
      "source": [
        "from sklearn.metrics import accuracy_score\n",
        "\n",
        "true_labels = np.concatenate(true_labels, axis=0)\n",
        "pred_labels = np.concatenate(pred_labels, axis=0)\n",
        "accuracy_score(true_labels, pred_labels)"
      ],
      "execution_count": null,
      "outputs": [
        {
          "output_type": "execute_result",
          "data": {
            "text/plain": [
              "0.869942196531792"
            ]
          },
          "metadata": {},
          "execution_count": 20
        }
      ]
    },
    {
      "cell_type": "code",
      "metadata": {
        "id": "Y3vnd4YkFroL"
      },
      "source": [
        "assert accuracy_score(true_labels, pred_labels) >= 0.86"
      ],
      "execution_count": null,
      "outputs": []
    },
    {
      "cell_type": "markdown",
      "metadata": {
        "id": "6Jjic8BswSgL"
      },
      "source": [
        "### Finetuned model from **HUGGING FACE**\n",
        "\n",
        "[BertForSequenceClassification](https://huggingface.co/transformers/model_doc/bert.html?highlight=bertfor#transformers.BertForSequenceClassification)"
      ]
    },
    {
      "cell_type": "code",
      "metadata": {
        "id": "GEbBPygrDGw3"
      },
      "source": [
        "from transformers import AutoTokenizer, AutoModelForSequenceClassification\n",
        "\n",
        "# we have the same tokenizer\n",
        "# new_tokenizer = AutoTokenizer.from_pretrained(\"distilbert-base-uncased-finetuned-sst-2-english\")\n",
        "new_model = AutoModelForSequenceClassification.from_pretrained(\"distilbert-base-uncased-finetuned-sst-2-english\").to(device)"
      ],
      "execution_count": null,
      "outputs": []
    },
    {
      "cell_type": "code",
      "metadata": {
        "id": "IZGbMpzYw9p4",
        "colab": {
          "base_uri": "https://localhost:8080/",
          "height": 66,
          "referenced_widgets": [
            "3acd6dac00f74eeea362f93608fed784",
            "ce99dc00e26b4fffad2ecb38c9f9ac85",
            "44912aa4144143c8bd68c2c0d6cc2d0c",
            "ced60c77d82c4f74a2c76512da01ae0e",
            "3d02957ebf8840eba3181a869aa0a87b",
            "20f39ebad79c4136bdf1fe911b7a680b",
            "5416b2d5046541d09198cb155b6f49e5",
            "9d299e56c3a54bcab28d29d0381bf290",
            "0a5c390203a246ce8730cf61f7d7c312",
            "ee76857982054c5c817400e20145f239",
            "672e788307924b7cafc6f27792c600f6"
          ]
        },
        "outputId": "3a0fd388-79a5-41fe-9da0-b11fc535286b"
      },
      "source": [
        "pred_labels = []\n",
        "true_labels = []\n",
        "\n",
        "new_model.eval()\n",
        "with torch.no_grad():\n",
        "    for i, batch in tqdm(enumerate(test_loader)):\n",
        "\n",
        "        out = new_model(batch['inputs'].to(device), attention_mask=batch['attention_mask'].to(device))\n",
        "        pred = torch.argmax(out[0], dim=1)\n",
        "        labels = batch['labels']\n",
        "        true_labels.append(labels.numpy())\n",
        "        pred_labels.append(pred.cpu().numpy())\n",
        "\n",
        "        # '''your code'''\n",
        "\n",
        "true_labels = np.concatenate(true_labels, axis=0)\n",
        "pred_labels = np.concatenate(pred_labels, axis=0)\n",
        "accuracy_score(true_labels, pred_labels)"
      ],
      "execution_count": null,
      "outputs": [
        {
          "output_type": "display_data",
          "data": {
            "application/vnd.jupyter.widget-view+json": {
              "model_id": "3acd6dac00f74eeea362f93608fed784",
              "version_minor": 0,
              "version_major": 2
            },
            "text/plain": [
              "0it [00:00, ?it/s]"
            ]
          },
          "metadata": {}
        },
        {
          "output_type": "execute_result",
          "data": {
            "text/plain": [
              "0.9841040462427746"
            ]
          },
          "metadata": {},
          "execution_count": 23
        }
      ]
    },
    {
      "cell_type": "code",
      "metadata": {
        "id": "ac-xMIdN4Hq5",
        "colab": {
          "base_uri": "https://localhost:8080/"
        },
        "outputId": "3947ffe9-2215-4e20-9e69-f7ce445c6ae5"
      },
      "source": [
        "model_structure(new_model)"
      ],
      "execution_count": null,
      "outputs": [
        {
          "output_type": "stream",
          "name": "stdout",
          "text": [
            "\u001b[31mdistilbert\u001b[0m:\n",
            "\u001b[32m            embeddings\u001b[0m:\n",
            "\u001b[34m                        word_embeddings\u001b[0m\n",
            "\u001b[34m                        position_embeddings\u001b[0m\n",
            "\u001b[34m                        LayerNorm\u001b[0m\n",
            "\u001b[34m                        dropout\u001b[0m\n",
            "\u001b[32m            transformer\u001b[0m:\n",
            "\u001b[34m                         layer\u001b[0m:\n",
            "\u001b[33m                                0\u001b[0m:\n",
            "\u001b[31m                                   attention\u001b[0m:\n",
            "\u001b[32m                                              dropout\u001b[0m\n",
            "\u001b[32m                                              q_lin\u001b[0m\n",
            "\u001b[32m                                              k_lin\u001b[0m\n",
            "\u001b[32m                                              v_lin\u001b[0m\n",
            "\u001b[32m                                              out_lin\u001b[0m\n",
            "\u001b[31m                                   sa_layer_norm\u001b[0m\n",
            "\u001b[31m                                   ffn\u001b[0m:\n",
            "\u001b[32m                                        dropout\u001b[0m\n",
            "\u001b[32m                                        lin1\u001b[0m\n",
            "\u001b[32m                                        lin2\u001b[0m\n",
            "\u001b[31m                                   output_layer_norm\u001b[0m\n",
            "\u001b[33m                                1\u001b[0m:\n",
            "\u001b[31m                                   attention\u001b[0m:\n",
            "\u001b[32m                                              dropout\u001b[0m\n",
            "\u001b[32m                                              q_lin\u001b[0m\n",
            "\u001b[32m                                              k_lin\u001b[0m\n",
            "\u001b[32m                                              v_lin\u001b[0m\n",
            "\u001b[32m                                              out_lin\u001b[0m\n",
            "\u001b[31m                                   sa_layer_norm\u001b[0m\n",
            "\u001b[31m                                   ffn\u001b[0m:\n",
            "\u001b[32m                                        dropout\u001b[0m\n",
            "\u001b[32m                                        lin1\u001b[0m\n",
            "\u001b[32m                                        lin2\u001b[0m\n",
            "\u001b[31m                                   output_layer_norm\u001b[0m\n",
            "\u001b[33m                                2\u001b[0m:\n",
            "\u001b[31m                                   attention\u001b[0m:\n",
            "\u001b[32m                                              dropout\u001b[0m\n",
            "\u001b[32m                                              q_lin\u001b[0m\n",
            "\u001b[32m                                              k_lin\u001b[0m\n",
            "\u001b[32m                                              v_lin\u001b[0m\n",
            "\u001b[32m                                              out_lin\u001b[0m\n",
            "\u001b[31m                                   sa_layer_norm\u001b[0m\n",
            "\u001b[31m                                   ffn\u001b[0m:\n",
            "\u001b[32m                                        dropout\u001b[0m\n",
            "\u001b[32m                                        lin1\u001b[0m\n",
            "\u001b[32m                                        lin2\u001b[0m\n",
            "\u001b[31m                                   output_layer_norm\u001b[0m\n",
            "\u001b[33m                                3\u001b[0m:\n",
            "\u001b[31m                                   attention\u001b[0m:\n",
            "\u001b[32m                                              dropout\u001b[0m\n",
            "\u001b[32m                                              q_lin\u001b[0m\n",
            "\u001b[32m                                              k_lin\u001b[0m\n",
            "\u001b[32m                                              v_lin\u001b[0m\n",
            "\u001b[32m                                              out_lin\u001b[0m\n",
            "\u001b[31m                                   sa_layer_norm\u001b[0m\n",
            "\u001b[31m                                   ffn\u001b[0m:\n",
            "\u001b[32m                                        dropout\u001b[0m\n",
            "\u001b[32m                                        lin1\u001b[0m\n",
            "\u001b[32m                                        lin2\u001b[0m\n",
            "\u001b[31m                                   output_layer_norm\u001b[0m\n",
            "\u001b[33m                                4\u001b[0m:\n",
            "\u001b[31m                                   attention\u001b[0m:\n",
            "\u001b[32m                                              dropout\u001b[0m\n",
            "\u001b[32m                                              q_lin\u001b[0m\n",
            "\u001b[32m                                              k_lin\u001b[0m\n",
            "\u001b[32m                                              v_lin\u001b[0m\n",
            "\u001b[32m                                              out_lin\u001b[0m\n",
            "\u001b[31m                                   sa_layer_norm\u001b[0m\n",
            "\u001b[31m                                   ffn\u001b[0m:\n",
            "\u001b[32m                                        dropout\u001b[0m\n",
            "\u001b[32m                                        lin1\u001b[0m\n",
            "\u001b[32m                                        lin2\u001b[0m\n",
            "\u001b[31m                                   output_layer_norm\u001b[0m\n",
            "\u001b[33m                                5\u001b[0m:\n",
            "\u001b[31m                                   attention\u001b[0m:\n",
            "\u001b[32m                                              dropout\u001b[0m\n",
            "\u001b[32m                                              q_lin\u001b[0m\n",
            "\u001b[32m                                              k_lin\u001b[0m\n",
            "\u001b[32m                                              v_lin\u001b[0m\n",
            "\u001b[32m                                              out_lin\u001b[0m\n",
            "\u001b[31m                                   sa_layer_norm\u001b[0m\n",
            "\u001b[31m                                   ffn\u001b[0m:\n",
            "\u001b[32m                                        dropout\u001b[0m\n",
            "\u001b[32m                                        lin1\u001b[0m\n",
            "\u001b[32m                                        lin2\u001b[0m\n",
            "\u001b[31m                                   output_layer_norm\u001b[0m\n",
            "\u001b[31mpre_classifier\u001b[0m\n",
            "\u001b[31mclassifier\u001b[0m\n",
            "\u001b[31mdropout\u001b[0m\n"
          ]
        }
      ]
    },
    {
      "cell_type": "markdown",
      "metadata": {
        "id": "DGvDiUIPFft2"
      },
      "source": [
        "## Напишите вывод о своих результатах. В выводы включите ваши гиперпараметры. \n",
        "\n",
        "*Качество с помощью Fine-Tuning должно достигать 0.86.*\n",
        "\n"
      ]
    },
    {
      "cell_type": "markdown",
      "metadata": {
        "id": "K4tIJCXZJfuV"
      },
      "source": [
        "clip = 1\n",
        "\n",
        "n_epochs = 3 \n",
        "\n",
        "lr = 2e-5\n",
        "\n",
        "получилась довольно высокая точность "
      ]
    },
    {
      "cell_type": "code",
      "metadata": {
        "id": "ddAxeANqSeVo"
      },
      "source": [
        ""
      ],
      "execution_count": null,
      "outputs": []
    }
  ]
}